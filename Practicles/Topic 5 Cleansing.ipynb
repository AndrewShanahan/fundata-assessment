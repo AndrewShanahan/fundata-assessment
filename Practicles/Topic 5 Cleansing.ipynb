{
 "cells": [
  {
   "cell_type": "markdown",
   "id": "5e0b38d1",
   "metadata": {},
   "source": [
    "# Topic 5: Cleansing\n",
    "\n",
    "### This file contains the 2 exercises assosiated with this topic. Please find references to each exercise in the README.md file"
   ]
  },
  {
   "cell_type": "markdown",
   "id": "e6f13dc1",
   "metadata": {},
   "source": [
    "# Exercise 1:\n",
    "\n",
    "#### Write a Python function to remove all non-alphanumeric characters from a string."
   ]
  },
  {
   "cell_type": "code",
   "execution_count": 1,
   "id": "24f3ffc9",
   "metadata": {},
   "outputs": [],
   "source": [
    "# import relevant libraries:\n",
    "\n",
    "import re"
   ]
  },
  {
   "cell_type": "code",
   "execution_count": 18,
   "id": "159474f3",
   "metadata": {},
   "outputs": [],
   "source": [
    "# First select a text/string to use in this function, for this exercise, a famous toungue twister has been selected:\n",
    "\n",
    "mystring = \"F&u$n£d^a*m!e^n£t+a=l#s o?f D<a>t/a A$n&a*l*y!s!i*s\""
   ]
  },
  {
   "cell_type": "code",
   "execution_count": 19,
   "id": "65741c7b",
   "metadata": {},
   "outputs": [
    {
     "name": "stdout",
     "output_type": "stream",
     "text": [
      "FundamentalsofDataAnalysis\n"
     ]
    }
   ],
   "source": [
    "# remove no numerical characters from the string (re.sub())\n",
    "\n",
    "newstring = re.sub(r'[\\W_]', '', mystring)\n",
    "print (newstring)"
   ]
  },
  {
   "cell_type": "code",
   "execution_count": 20,
   "id": "c9d4ae58",
   "metadata": {},
   "outputs": [
    {
     "name": "stdout",
     "output_type": "stream",
     "text": [
      "Fundamentals of Data Analysis\n"
     ]
    }
   ],
   "source": [
    "# remove no numerical characters from the string while preserving the whitespace\n",
    "\n",
    "newstring = re.sub(r'[^\\w\\s]', '', mystring)\n",
    "print (newstring)"
   ]
  },
  {
   "cell_type": "markdown",
   "id": "0cd1ef56",
   "metadata": {},
   "source": [
    "# Exercise 2:\n",
    "\n",
    "#### Adapt the above code to capitalise the first letter of the iris species, using regular expressions."
   ]
  },
  {
   "cell_type": "code",
   "execution_count": null,
   "id": "8fcfea7c",
   "metadata": {},
   "outputs": [],
   "source": []
  }
 ],
 "metadata": {
  "kernelspec": {
   "display_name": "Python 3 (ipykernel)",
   "language": "python",
   "name": "python3"
  },
  "language_info": {
   "codemirror_mode": {
    "name": "ipython",
    "version": 3
   },
   "file_extension": ".py",
   "mimetype": "text/x-python",
   "name": "python",
   "nbconvert_exporter": "python",
   "pygments_lexer": "ipython3",
   "version": "3.9.7"
  }
 },
 "nbformat": 4,
 "nbformat_minor": 5
}
