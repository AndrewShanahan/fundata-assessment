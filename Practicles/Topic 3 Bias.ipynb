{
 "cells": [
  {
   "cell_type": "markdown",
   "id": "1205e253",
   "metadata": {},
   "source": [
    "# Topic 2: Randomness\n",
    "\n",
    "###  This file contains the 2 exercises assosiated with this topic. Please find references to each exercise in the README.md file"
   ]
  },
  {
   "cell_type": "markdown",
   "id": "1b429100",
   "metadata": {},
   "source": [
    "# Exercise 1:\n",
    "\n",
    "#### Give three real-world examples of different types of cognitive bias."
   ]
  },
  {
   "cell_type": "markdown",
   "id": "251f1926",
   "metadata": {},
   "source": [
    "1. _Confirmation Bias_: This type of bias can have serious impacts in data science as some may veer in the direction of what they believe to be correct or confirms their hypothesis while ignoring important evidence.<br>\n",
    "    Example: Only reading content that supports beliefs.<br>\n",
    "\n",
    "2. _Blind Spot Bias_: The bias blind spot is the cognitive bias of recognizing the impact of biases on the judgment of others, while failing to see the impact of biases on one’s own judgment.<BR>\n",
    "    Example: thinking one is less bias than others.<br>\n",
    "\n",
    "3. _Bandwagon Bias_: The bandwagon effect is a phenomenon whereby the rate of uptake of beliefs, ideas, fads and trends increases the more that they have already been adopted by others.<br>\n",
    "    Example: Voting for the most popular candidate in an election.<br>\n"
   ]
  },
  {
   "cell_type": "markdown",
   "id": "c811f735",
   "metadata": {},
   "source": [
    "# Exercise 2:\n",
    "\n",
    "#### Show that the difference between the standard deviation calculations is greatest for small sample sizes."
   ]
  },
  {
   "cell_type": "code",
   "execution_count": 6,
   "id": "0c20827a",
   "metadata": {},
   "outputs": [
    {
     "name": "stdout",
     "output_type": "stream",
     "text": [
      "Mean: 15.6\n",
      "Standard Deviation: 10.05186549850325\n"
     ]
    }
   ],
   "source": [
    "# Example 1: Range between 1 and 30, sample size = 5\n",
    "\n",
    "import numpy as np\n",
    "dataset=[1, 9, 16, 22, 30]\n",
    "print('Mean:', np.mean(dataset))\n",
    "print('Standard Deviation:', np.std(dataset))"
   ]
  },
  {
   "cell_type": "code",
   "execution_count": 9,
   "id": "f53110f9",
   "metadata": {},
   "outputs": [
    {
     "name": "stdout",
     "output_type": "stream",
     "text": [
      "Mean: 17.4\n",
      "Standard Deviation: 8.56971411425142\n"
     ]
    }
   ],
   "source": [
    "# Example 2: Range between 1 and 30, sample size = 10\n",
    "\n",
    "import numpy as np\n",
    "dataset=[1, 7, 13, 14, 16, 19, 23, 25, 26, 30]\n",
    "print('Mean:', np.mean(dataset))\n",
    "print('Standard Deviation:', np.std(dataset))"
   ]
  },
  {
   "cell_type": "markdown",
   "id": "68044dd0",
   "metadata": {},
   "source": [
    "As noted in article 'Using Standard Deviation in Python, \"In general, a low standard deviation means that the data is very closely related to the average, thus very reliable and a high standard deviation meants that there is a large variance between the data and statistical average, thus not as reliable\".\n",
    "\n",
    "The examples provided above show a dataset with a range between 1 and 30. The results prove that the greater the sample size, the lower the standard deviation will be compared to a smaller sample."
   ]
  }
 ],
 "metadata": {
  "kernelspec": {
   "display_name": "Python 3 (ipykernel)",
   "language": "python",
   "name": "python3"
  },
  "language_info": {
   "codemirror_mode": {
    "name": "ipython",
    "version": 3
   },
   "file_extension": ".py",
   "mimetype": "text/x-python",
   "name": "python",
   "nbconvert_exporter": "python",
   "pygments_lexer": "ipython3",
   "version": "3.9.7"
  }
 },
 "nbformat": 4,
 "nbformat_minor": 5
}
