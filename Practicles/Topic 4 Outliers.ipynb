{
 "cells": [
  {
   "cell_type": "markdown",
   "id": "53d9d8ac",
   "metadata": {},
   "source": [
    "# Topic 4: Outliers\n",
    "\n",
    "### This file contains the 3 exercises assosiated with this topic. Please find references to each exercise in the README.md file"
   ]
  },
  {
   "cell_type": "markdown",
   "id": "9bff41fb",
   "metadata": {},
   "source": [
    "![Image4](https://miro.medium.com/max/697/1*O3lOgPwuHP7Vfc1T6NDRrQ.png)"
   ]
  },
  {
   "cell_type": "code",
   "execution_count": 2,
   "id": "042cff87",
   "metadata": {},
   "outputs": [],
   "source": [
    "# Import the required libraries:\n",
    "\n",
    "import numpy as np\n",
    "\n",
    "from numpy import genfromtxt\n",
    "\n",
    "# Plotting:\n",
    "import matplotlib.pyplot as plt\n",
    "\n",
    "# Statistics:\n",
    "import pandas as pd\n",
    "\n",
    "# Visualisations:\n",
    "import seaborn as sns\n",
    "\n",
    "# Pandas for data analysis\n",
    "import pandas as pd\n",
    "\n",
    "# Morley dataset:\n",
    "# Morley dataset has been given variable 'data1'\n",
    "\n",
    "\n",
    "\n",
    "# Iris dataset URL:\n",
    "#irisurl=\"https://archive.ics.uci.edu/ml/machine-learning-databases/iris/iris.data\"\n",
    "\n",
    "# Importing\n",
    "#irisDF = pd.read_csv(url)\n",
    "\n",
    "# Dataset URL. Please note that this CSV file is compressed due to its size\n",
    "#url=\"http://data.insideairbnb.com/ireland/leinster/dublin/2022-09-11/data/listings.csv.gz\"\n",
    "\n",
    "# Importing the CSV file:\n",
    "#listingsDF = pd.read_csv(url, compression=\"gzip\")"
   ]
  },
  {
   "cell_type": "code",
   "execution_count": 7,
   "id": "b35188c9",
   "metadata": {},
   "outputs": [
    {
     "name": "stdout",
     "output_type": "stream",
     "text": [
      "[[1.00e+00 1.00e+00 8.50e+02]\n",
      " [1.00e+00 2.00e+00 7.40e+02]\n",
      " [1.00e+00 3.00e+00 9.00e+02]\n",
      " [1.00e+00 4.00e+00 1.07e+03]\n",
      " [1.00e+00 5.00e+00 9.30e+02]\n",
      " [1.00e+00 6.00e+00 8.50e+02]\n",
      " [1.00e+00 7.00e+00 9.50e+02]\n",
      " [1.00e+00 8.00e+00 9.80e+02]\n",
      " [1.00e+00 9.00e+00 9.80e+02]\n",
      " [1.00e+00 1.00e+01 8.80e+02]\n",
      " [1.00e+00 1.10e+01 1.00e+03]\n",
      " [1.00e+00 1.20e+01 9.80e+02]\n",
      " [1.00e+00 1.30e+01 9.30e+02]\n",
      " [1.00e+00 1.40e+01 6.50e+02]\n",
      " [1.00e+00 1.50e+01 7.60e+02]\n",
      " [1.00e+00 1.60e+01 8.10e+02]\n",
      " [1.00e+00 1.70e+01 1.00e+03]\n",
      " [1.00e+00 1.80e+01 1.00e+03]\n",
      " [1.00e+00 1.90e+01 9.60e+02]\n",
      " [1.00e+00 2.00e+01 9.60e+02]\n",
      " [2.00e+00 1.00e+00 9.60e+02]\n",
      " [2.00e+00 2.00e+00 9.40e+02]\n",
      " [2.00e+00 3.00e+00 9.60e+02]\n",
      " [2.00e+00 4.00e+00 9.40e+02]\n",
      " [2.00e+00 5.00e+00 8.80e+02]\n",
      " [2.00e+00 6.00e+00 8.00e+02]\n",
      " [2.00e+00 7.00e+00 8.50e+02]\n",
      " [2.00e+00 8.00e+00 8.80e+02]\n",
      " [2.00e+00 9.00e+00 9.00e+02]\n",
      " [2.00e+00 1.00e+01 8.40e+02]\n",
      " [2.00e+00 1.10e+01 8.30e+02]\n",
      " [2.00e+00 1.20e+01 7.90e+02]\n",
      " [2.00e+00 1.30e+01 8.10e+02]\n",
      " [2.00e+00 1.40e+01 8.80e+02]\n",
      " [2.00e+00 1.50e+01 8.80e+02]\n",
      " [2.00e+00 1.60e+01 8.30e+02]\n",
      " [2.00e+00 1.70e+01 8.00e+02]\n",
      " [2.00e+00 1.80e+01 7.90e+02]\n",
      " [2.00e+00 1.90e+01 7.60e+02]\n",
      " [2.00e+00 2.00e+01 8.00e+02]\n",
      " [3.00e+00 1.00e+00 8.80e+02]\n",
      " [3.00e+00 2.00e+00 8.80e+02]\n",
      " [3.00e+00 3.00e+00 8.80e+02]\n",
      " [3.00e+00 4.00e+00 8.60e+02]\n",
      " [3.00e+00 5.00e+00 7.20e+02]\n",
      " [3.00e+00 6.00e+00 7.20e+02]\n",
      " [3.00e+00 7.00e+00 6.20e+02]\n",
      " [3.00e+00 8.00e+00 8.60e+02]\n",
      " [3.00e+00 9.00e+00 9.70e+02]\n",
      " [3.00e+00 1.00e+01 9.50e+02]\n",
      " [3.00e+00 1.10e+01 8.80e+02]\n",
      " [3.00e+00 1.20e+01 9.10e+02]\n",
      " [3.00e+00 1.30e+01 8.50e+02]\n",
      " [3.00e+00 1.40e+01 8.70e+02]\n",
      " [3.00e+00 1.50e+01 8.40e+02]\n",
      " [3.00e+00 1.60e+01 8.40e+02]\n",
      " [3.00e+00 1.70e+01 8.50e+02]\n",
      " [3.00e+00 1.80e+01 8.40e+02]\n",
      " [3.00e+00 1.90e+01 8.40e+02]\n",
      " [3.00e+00 2.00e+01 8.40e+02]\n",
      " [4.00e+00 1.00e+00 8.90e+02]\n",
      " [4.00e+00 2.00e+00 8.10e+02]\n",
      " [4.00e+00 3.00e+00 8.10e+02]\n",
      " [4.00e+00 4.00e+00 8.20e+02]\n",
      " [4.00e+00 5.00e+00 8.00e+02]\n",
      " [4.00e+00 6.00e+00 7.70e+02]\n",
      " [4.00e+00 7.00e+00 7.60e+02]\n",
      " [4.00e+00 8.00e+00 7.40e+02]\n",
      " [4.00e+00 9.00e+00 7.50e+02]\n",
      " [4.00e+00 1.00e+01 7.60e+02]\n",
      " [4.00e+00 1.10e+01 9.10e+02]\n",
      " [4.00e+00 1.20e+01 9.20e+02]\n",
      " [4.00e+00 1.30e+01 8.90e+02]\n",
      " [4.00e+00 1.40e+01 8.60e+02]\n",
      " [4.00e+00 1.50e+01 8.80e+02]\n",
      " [4.00e+00 1.60e+01 7.20e+02]\n",
      " [4.00e+00 1.70e+01 8.40e+02]\n",
      " [4.00e+00 1.80e+01 8.50e+02]\n",
      " [4.00e+00 1.90e+01 8.50e+02]\n",
      " [4.00e+00 2.00e+01 7.80e+02]\n",
      " [5.00e+00 1.00e+00 8.90e+02]\n",
      " [5.00e+00 2.00e+00 8.40e+02]\n",
      " [5.00e+00 3.00e+00 7.80e+02]\n",
      " [5.00e+00 4.00e+00 8.10e+02]\n",
      " [5.00e+00 5.00e+00 7.60e+02]\n",
      " [5.00e+00 6.00e+00 8.10e+02]\n",
      " [5.00e+00 7.00e+00 7.90e+02]\n",
      " [5.00e+00 8.00e+00 8.10e+02]\n",
      " [5.00e+00 9.00e+00 8.20e+02]\n",
      " [5.00e+00 1.00e+01 8.50e+02]\n",
      " [5.00e+00 1.10e+01 8.70e+02]\n",
      " [5.00e+00 1.20e+01 8.70e+02]\n",
      " [5.00e+00 1.30e+01 8.10e+02]\n",
      " [5.00e+00 1.40e+01 7.40e+02]\n",
      " [5.00e+00 1.50e+01 8.10e+02]\n",
      " [5.00e+00 1.60e+01 9.40e+02]\n",
      " [5.00e+00 1.70e+01 9.50e+02]\n",
      " [5.00e+00 1.80e+01 8.00e+02]\n",
      " [5.00e+00 1.90e+01 8.10e+02]\n",
      " [5.00e+00 2.00e+01 8.70e+02]]\n"
     ]
    }
   ],
   "source": [
    "# Read in the morley data.\n",
    "data1 = np.genfromtxt('../morley.csv', skip_header=1, delimiter=',', deletechars='\"')\n",
    "\n",
    "# Removing the first column\n",
    "data1 = data1[:,1:]\n",
    "\n",
    "print (data1)"
   ]
  },
  {
   "cell_type": "code",
   "execution_count": 3,
   "id": "e966f77d",
   "metadata": {},
   "outputs": [
    {
     "ename": "SyntaxError",
     "evalue": "invalid syntax (Temp/ipykernel_19500/4082554224.py, line 3)",
     "output_type": "error",
     "traceback": [
      "\u001b[1;36m  File \u001b[1;32m\"C:\\Users\\andre\\AppData\\Local\\Temp/ipykernel_19500/4082554224.py\"\u001b[1;36m, line \u001b[1;32m3\u001b[0m\n\u001b[1;33m    morleyurl = pd.read(https://pages.ucsd.edu/~sdesposato/morley.data)\u001b[0m\n\u001b[1;37m                             ^\u001b[0m\n\u001b[1;31mSyntaxError\u001b[0m\u001b[1;31m:\u001b[0m invalid syntax\n"
     ]
    }
   ],
   "source": [
    "#morley dataset\n",
    "\n",
    "morleyurl = pd.read(https://pages.ucsd.edu/~sdesposato/morley.data)\n",
    "\n",
    "#https://pages.ucsd.edu/~sdesposato/morley.data"
   ]
  },
  {
   "cell_type": "markdown",
   "id": "378a5ae2",
   "metadata": {},
   "source": [
    "# Exercise 1\n",
    "\n",
    "#### Create box plots on a single set of axes for all five experiments in the morley data set."
   ]
  },
  {
   "cell_type": "code",
   "execution_count": null,
   "id": "af712cc8",
   "metadata": {},
   "outputs": [],
   "source": []
  },
  {
   "cell_type": "markdown",
   "id": "f0e9714d",
   "metadata": {},
   "source": [
    "# Exercise 2\n",
    "\n",
    "#### Create box plots for all of the numercial variables in Fisher's Iris Data Set."
   ]
  },
  {
   "cell_type": "code",
   "execution_count": null,
   "id": "d620548c",
   "metadata": {},
   "outputs": [],
   "source": []
  },
  {
   "cell_type": "markdown",
   "id": "ccb5cc36",
   "metadata": {},
   "source": [
    "# Exercise 3\n",
    "\n",
    "#### Adapt the above code and plots so that the overall plot is inversely propertional and the individual groups are directly proportional."
   ]
  },
  {
   "cell_type": "code",
   "execution_count": null,
   "id": "ebb55c03",
   "metadata": {},
   "outputs": [],
   "source": []
  }
 ],
 "metadata": {
  "kernelspec": {
   "display_name": "Python 3 (ipykernel)",
   "language": "python",
   "name": "python3"
  },
  "language_info": {
   "codemirror_mode": {
    "name": "ipython",
    "version": 3
   },
   "file_extension": ".py",
   "mimetype": "text/x-python",
   "name": "python",
   "nbconvert_exporter": "python",
   "pygments_lexer": "ipython3",
   "version": "3.9.7"
  }
 },
 "nbformat": 4,
 "nbformat_minor": 5
}
