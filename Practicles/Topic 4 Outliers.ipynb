{
 "cells": [
  {
   "cell_type": "markdown",
   "id": "53d9d8ac",
   "metadata": {},
   "source": [
    "# Topic 4: Outliers\n",
    "\n",
    "### This file contains the 3 exercises assosiated with this topic. Please find references to each exercise in the README.md file"
   ]
  },
  {
   "cell_type": "markdown",
   "id": "9bff41fb",
   "metadata": {},
   "source": [
    "![Image4](https://miro.medium.com/max/697/1*O3lOgPwuHP7Vfc1T6NDRrQ.png)"
   ]
  },
  {
   "cell_type": "code",
   "execution_count": 1,
   "id": "042cff87",
   "metadata": {},
   "outputs": [],
   "source": [
    "# Import the required libraries:\n",
    "\n",
    "import numpy as np\n",
    "\n",
    "from numpy import genfromtxt\n",
    "\n",
    "# Plotting:\n",
    "import matplotlib.pyplot as plt\n",
    "\n",
    "# Statistics:\n",
    "import pandas as pd\n",
    "\n",
    "# Visualisations:\n",
    "import seaborn as sns\n",
    "\n",
    "# Pandas for data analysis\n",
    "import pandas as pd\n",
    "\n",
    "# Morley dataset: imported below, named/variable: 'data1'\n",
    "\n",
    "# Iris dataset URL:\n",
    "irisurl=\"https://archive.ics.uci.edu/ml/machine-learning-databases/iris/iris.data\"\n",
    "\n",
    "# Importing\n",
    "irisDF = pd.read_csv(irisurl)\n",
    "\n",
    "# Dataset URL. Please note that this CSV file is compressed due to its size\n",
    "#url=\"http://data.insideairbnb.com/ireland/leinster/dublin/2022-09-11/data/listings.csv.gz\"\n",
    "\n",
    "# Importing the CSV file:\n",
    "#listingsDF = pd.read_csv(url, compression=\"gzip\")"
   ]
  },
  {
   "cell_type": "code",
   "execution_count": 2,
   "id": "b35188c9",
   "metadata": {},
   "outputs": [],
   "source": [
    "# Read in the morley data.\n",
    "data1 = np.genfromtxt('../morley.csv', skip_header=1, delimiter=',', deletechars='\"')\n",
    "\n",
    "# Removing the first column\n",
    "data1 = data1[:,1:]"
   ]
  },
  {
   "cell_type": "code",
   "execution_count": 3,
   "id": "b3bf3976",
   "metadata": {},
   "outputs": [
    {
     "name": "stdout",
     "output_type": "stream",
     "text": [
      "    Column_1  Column_2  Column_3  Column_4  Column_5\n",
      "0      850.0     960.0     880.0     890.0     890.0\n",
      "1      740.0     940.0     880.0     810.0     840.0\n",
      "2      900.0     960.0     880.0     810.0     780.0\n",
      "3     1070.0     940.0     860.0     820.0     810.0\n",
      "4      930.0     880.0     720.0     800.0     760.0\n",
      "5      850.0     800.0     720.0     770.0     810.0\n",
      "6      950.0     850.0     620.0     760.0     790.0\n",
      "7      980.0     880.0     860.0     740.0     810.0\n",
      "8      980.0     900.0     970.0     750.0     820.0\n",
      "9      880.0     840.0     950.0     760.0     850.0\n",
      "10    1000.0     830.0     880.0     910.0     870.0\n",
      "11     980.0     790.0     910.0     920.0     870.0\n",
      "12     930.0     810.0     850.0     890.0     810.0\n",
      "13     650.0     880.0     870.0     860.0     740.0\n",
      "14     760.0     880.0     840.0     880.0     810.0\n",
      "15     810.0     830.0     840.0     720.0     940.0\n",
      "16    1000.0     800.0     850.0     840.0     950.0\n",
      "17    1000.0     790.0     840.0     850.0     800.0\n",
      "18     960.0     760.0     840.0     850.0     810.0\n",
      "19     960.0     800.0     840.0     780.0     870.0\n"
     ]
    }
   ],
   "source": [
    "# A quick way to get the five experiments in different columns.\n",
    "df = data1[:,2].reshape(5, 20).T\n",
    "\n",
    "panda_df = pd.DataFrame(data = df, \n",
    "                        columns = [\"Column_1\", \"Column_2\", \"Column_3\", \"Column_4\", \"Column_5\"])\n",
    "print(panda_df)"
   ]
  },
  {
   "cell_type": "code",
   "execution_count": 4,
   "id": "60ad62dc",
   "metadata": {},
   "outputs": [
    {
     "data": {
      "text/html": [
       "<div>\n",
       "<style scoped>\n",
       "    .dataframe tbody tr th:only-of-type {\n",
       "        vertical-align: middle;\n",
       "    }\n",
       "\n",
       "    .dataframe tbody tr th {\n",
       "        vertical-align: top;\n",
       "    }\n",
       "\n",
       "    .dataframe thead th {\n",
       "        text-align: right;\n",
       "    }\n",
       "</style>\n",
       "<table border=\"1\" class=\"dataframe\">\n",
       "  <thead>\n",
       "    <tr style=\"text-align: right;\">\n",
       "      <th></th>\n",
       "      <th>Column_1</th>\n",
       "      <th>Column_2</th>\n",
       "      <th>Column_3</th>\n",
       "      <th>Column_4</th>\n",
       "      <th>Column_5</th>\n",
       "    </tr>\n",
       "  </thead>\n",
       "  <tbody>\n",
       "    <tr>\n",
       "      <th>0</th>\n",
       "      <td>850.0</td>\n",
       "      <td>960.0</td>\n",
       "      <td>880.0</td>\n",
       "      <td>890.0</td>\n",
       "      <td>890.0</td>\n",
       "    </tr>\n",
       "    <tr>\n",
       "      <th>1</th>\n",
       "      <td>740.0</td>\n",
       "      <td>940.0</td>\n",
       "      <td>880.0</td>\n",
       "      <td>810.0</td>\n",
       "      <td>840.0</td>\n",
       "    </tr>\n",
       "    <tr>\n",
       "      <th>2</th>\n",
       "      <td>900.0</td>\n",
       "      <td>960.0</td>\n",
       "      <td>880.0</td>\n",
       "      <td>810.0</td>\n",
       "      <td>780.0</td>\n",
       "    </tr>\n",
       "    <tr>\n",
       "      <th>3</th>\n",
       "      <td>1070.0</td>\n",
       "      <td>940.0</td>\n",
       "      <td>860.0</td>\n",
       "      <td>820.0</td>\n",
       "      <td>810.0</td>\n",
       "    </tr>\n",
       "    <tr>\n",
       "      <th>4</th>\n",
       "      <td>930.0</td>\n",
       "      <td>880.0</td>\n",
       "      <td>720.0</td>\n",
       "      <td>800.0</td>\n",
       "      <td>760.0</td>\n",
       "    </tr>\n",
       "  </tbody>\n",
       "</table>\n",
       "</div>"
      ],
      "text/plain": [
       "   Column_1  Column_2  Column_3  Column_4  Column_5\n",
       "0     850.0     960.0     880.0     890.0     890.0\n",
       "1     740.0     940.0     880.0     810.0     840.0\n",
       "2     900.0     960.0     880.0     810.0     780.0\n",
       "3    1070.0     940.0     860.0     820.0     810.0\n",
       "4     930.0     880.0     720.0     800.0     760.0"
      ]
     },
     "execution_count": 4,
     "metadata": {},
     "output_type": "execute_result"
    }
   ],
   "source": [
    "# Investigating dataset:\n",
    "\n",
    "panda_df.head()"
   ]
  },
  {
   "cell_type": "markdown",
   "id": "378a5ae2",
   "metadata": {},
   "source": [
    "# Exercise 1\n",
    "\n",
    "#### Create box plots on a single set of axes for all five experiments in the morley data set."
   ]
  },
  {
   "cell_type": "code",
   "execution_count": 11,
   "id": "af712cc8",
   "metadata": {},
   "outputs": [
    {
     "data": {
      "image/png": "[encoded data removed]",
      "text/plain": [
       "<Figure size 360x360 with 1 Axes>"
      ]
     },
     "metadata": {
      "needs_background": "light"
     },
     "output_type": "display_data"
    }
   ],
   "source": [
    "#\n",
    "\n",
    "fig = plt.figure(figsize = (5, 5))\n",
    "fig.suptitle('Boxplot of the Morley Dataset experiments', fontsize=12, fontweight='bold')\n",
    "\n",
    "ax = fig.add_subplot(111)\n",
    "ax.boxplot(panda_df, patch_artist=True)\n",
    "\n",
    "plt.axhline(y = 792.458, color = 'g', linestyle = '--', label='Speed')\n",
    "ax.set_xlabel('Experiment Number')\n",
    "ax.set_ylabel('Speed of Light')\n",
    "\n",
    "plt.show()"
   ]
  },
  {
   "cell_type": "markdown",
   "id": "f0e9714d",
   "metadata": {},
   "source": [
    "# Exercise 2\n",
    "\n",
    "#### Create box plots for all of the numercial variables in Fisher's Iris Data Set."
   ]
  },
  {
   "cell_type": "code",
   "execution_count": null,
   "id": "d620548c",
   "metadata": {},
   "outputs": [],
   "source": []
  },
  {
   "cell_type": "markdown",
   "id": "ccb5cc36",
   "metadata": {},
   "source": [
    "# Exercise 3\n",
    "\n",
    "#### Adapt the above code and plots so that the overall plot is inversely propertional and the individual groups are directly proportional."
   ]
  },
  {
   "cell_type": "code",
   "execution_count": null,
   "id": "ebb55c03",
   "metadata": {},
   "outputs": [],
   "source": []
  }
 ],
 "metadata": {
  "kernelspec": {
   "display_name": "Python 3 (ipykernel)",
   "language": "python",
   "name": "python3"
  },
  "language_info": {
   "codemirror_mode": {
    "name": "ipython",
    "version": 3
   },
   "file_extension": ".py",
   "mimetype": "text/x-python",
   "name": "python",
   "nbconvert_exporter": "python",
   "pygments_lexer": "ipython3",
   "version": "3.9.7"
  }
 },
 "nbformat": 4,
 "nbformat_minor": 5
}
