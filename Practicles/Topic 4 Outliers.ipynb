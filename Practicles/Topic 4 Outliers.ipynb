{
 "cells": [
  {
   "cell_type": "markdown",
   "id": "53d9d8ac",
   "metadata": {},
   "source": [
    "# Topic 4: Outliers\n",
    "\n",
    "### This file contains the 3 exercises assosiated with this topic. Please find references to each exercise in the README.md file"
   ]
  },
  {
   "cell_type": "markdown",
   "id": "9bff41fb",
   "metadata": {},
   "source": [
    "![Image4](https://miro.medium.com/max/697/1*O3lOgPwuHP7Vfc1T6NDRrQ.png)"
   ]
  },
  {
   "cell_type": "markdown",
   "id": "378a5ae2",
   "metadata": {},
   "source": [
    "# Exercise 1\n",
    "\n",
    "#### Create box plots on a single set of axes for all five experiments in the morley data set."
   ]
  },
  {
   "cell_type": "code",
   "execution_count": null,
   "id": "af712cc8",
   "metadata": {},
   "outputs": [],
   "source": []
  },
  {
   "cell_type": "markdown",
   "id": "f0e9714d",
   "metadata": {},
   "source": [
    "# Exercise 2\n",
    "\n",
    "#### Create box plots for all of the numercial variables in Fisher's Iris Data Set."
   ]
  },
  {
   "cell_type": "code",
   "execution_count": null,
   "id": "d620548c",
   "metadata": {},
   "outputs": [],
   "source": []
  },
  {
   "cell_type": "markdown",
   "id": "ccb5cc36",
   "metadata": {},
   "source": [
    "# Exercise 3\n",
    "\n",
    "#### Adapt the above code and plots so that the overall plot is inversely propertional and the individual groups are directly proportional."
   ]
  },
  {
   "cell_type": "code",
   "execution_count": null,
   "id": "ebb55c03",
   "metadata": {},
   "outputs": [],
   "source": []
  }
 ],
 "metadata": {
  "kernelspec": {
   "display_name": "Python 3 (ipykernel)",
   "language": "python",
   "name": "python3"
  },
  "language_info": {
   "codemirror_mode": {
    "name": "ipython",
    "version": 3
   },
   "file_extension": ".py",
   "mimetype": "text/x-python",
   "name": "python",
   "nbconvert_exporter": "python",
   "pygments_lexer": "ipython3",
   "version": "3.9.7"
  }
 },
 "nbformat": 4,
 "nbformat_minor": 5
}
