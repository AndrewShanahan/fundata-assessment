{
 "cells": [
  {
   "cell_type": "markdown",
   "id": "1ea7b13e",
   "metadata": {},
   "source": [
    "# Topic 2: Randomness\n",
    "\n",
    "### This file contains the 3 exercises assosiated with this topic. Please find references to each exercise in the README.md file"
   ]
  },
  {
   "cell_type": "markdown",
   "id": "68e70cb3",
   "metadata": {},
   "source": [
    "# Exercise 1:\n",
    "\n",
    "### It is somewhat interesting that (5 * 4 * 3 * 2 * 1) perfectly divides (10 * 9 * 8 * 7 * 6) - there's no remainder.\n",
    "\n",
    "### If we only wanted exactly four heads as opposed to five, the equivalent calculation would be (10 * 9 * 8 * 7) / (4 * 3 * 2 * 1).\n",
    "\n",
    "### Does that evenly divide too? What is the formula in general?\n",
    "\n",
    "### Does it always come out as a positive whole number?"
   ]
  },
  {
   "cell_type": "code",
   "execution_count": 23,
   "id": "e894770c",
   "metadata": {},
   "outputs": [
    {
     "name": "stdout",
     "output_type": "stream",
     "text": [
      "Heads\n"
     ]
    }
   ],
   "source": [
    "# For generating numbers.\n",
    "#import numpy as np\n",
    "\n",
    "# for random.\n",
    "#import random \n",
    "\n",
    "from random import random\n",
    "def flip_coin():\n",
    "    # generate random number 0-1\n",
    "    r = random()\n",
    "    if r > 0.5:\n",
    "        return \"Heads\"\n",
    "    else:\n",
    "        return \"Tails\"\n",
    "print(flip_coin())"
   ]
  },
  {
   "cell_type": "code",
   "execution_count": 1,
   "id": "8dcd0f51",
   "metadata": {},
   "outputs": [
    {
     "name": "stdout",
     "output_type": "stream",
     "text": [
      "[0 0 1 1 1 1 1 0 0 0 1 0 1 1 0 1 1 0 0 0 1 1 1 1 1 1 0 1 1 0 1 1 0 0 1 1 0\n",
      " 0 0 0 1 0 1 0 1 1 0 0 0 0 0 1 0 0 0 1 1 1 1 0 0 0 0 1 0 0 0 0 1 1 0 1 0 0\n",
      " 0 1 1 1 0 1 0 1 1 1 0 0 0 0 0 1 0 1 0 0 1 0 1 0 1 0]\n"
     ]
    }
   ],
   "source": [
    "import numpy as np\n",
    "\n",
    "# FLip a coin once.\n",
    "#np.random.binomial(1, 0.5)\n",
    "\n",
    "# Flip a coin 100 times\n",
    "print(np.random.binomial(1, 0.5, 100))"
   ]
  },
  {
   "cell_type": "code",
   "execution_count": 2,
   "id": "5a454e13",
   "metadata": {},
   "outputs": [
    {
     "name": "stdout",
     "output_type": "stream",
     "text": [
      "34\n"
     ]
    }
   ],
   "source": [
    "# Flip a coin 100 times, to give only the total number of heads.\n",
    "print(np.random.binomial(100, 0.5))"
   ]
  },
  {
   "cell_type": "markdown",
   "id": "2b24ec3b",
   "metadata": {},
   "source": [
    "This falls under the Probability branch of mathematics or combinations (combinatronics)"
   ]
  },
  {
   "cell_type": "code",
   "execution_count": 5,
   "id": "f2d1abdd",
   "metadata": {},
   "outputs": [
    {
     "data": {
      "text/plain": [
       "252"
      ]
     },
     "execution_count": 5,
     "metadata": {},
     "output_type": "execute_result"
    }
   ],
   "source": [
    "#5\n",
    "\n",
    "(10*9*8*7*6)//(5*4*3*2*1)"
   ]
  },
  {
   "cell_type": "code",
   "execution_count": 7,
   "id": "18f27077",
   "metadata": {},
   "outputs": [
    {
     "data": {
      "text/plain": [
       "210"
      ]
     },
     "execution_count": 7,
     "metadata": {},
     "output_type": "execute_result"
    }
   ],
   "source": [
    "#4\n",
    "(10*9*8*7)//(4*3*2*1)"
   ]
  },
  {
   "cell_type": "markdown",
   "id": "9c5db44a",
   "metadata": {},
   "source": [
    "# Exercise 2:\n",
    "\n",
    "### Note that there are the same number of ways to get 4 tails as there to get 4 heads. Explain why this is."
   ]
  },
  {
   "cell_type": "markdown",
   "id": "9da670e4",
   "metadata": {},
   "source": [
    "This falls under the probability branch of mathematics, especially comibinations but ultimately as there are only 2 options, i.e. 50/50 chances. It would therefore mean that either head or tails has the same number of ways to get 4 tails as there are to get 4 heads\n",
    "\n",
    "Combinations formula:\n",
    "\n",
    "nCr = (r+n-1)!/r!(n-1)!"
   ]
  },
  {
   "cell_type": "markdown",
   "id": "95d86264",
   "metadata": {},
   "source": [
    "# Exercise 3:\n",
    "\n",
    "### Plot bar charts or histograms of any three different distributions listed at the following link:\n",
    "\n",
    "### https://numpy.org/doc/stable/reference/random/generator.html#distributions"
   ]
  },
  {
   "cell_type": "code",
   "execution_count": 5,
   "id": "30520852",
   "metadata": {},
   "outputs": [
    {
     "data": {
      "image/png": "[encoded data removed]",
      "text/plain": [
       "<Figure size 432x288 with 1 Axes>"
      ]
     },
     "metadata": {
      "needs_background": "light"
     },
     "output_type": "display_data"
    }
   ],
   "source": [
    "# Uniform distribution: In probability theory and statistics, the continuous uniform distribution or rectangular distribution is a family of symmetric probability distributions.\n",
    "\n",
    "# numpy.random.uniform\n",
    "# The probability density function of the uniform distribution is:\n",
    "# p(x) = 1/b-a\n",
    "# samples are uniformly distributed over the half-open interval.\n",
    "\n",
    "s = np.random.uniform(-1,0,1000)\n",
    "\n",
    "import matplotlib.pyplot as plt\n",
    "\n",
    "count, bins, ignored = plt.hist(s, 15, density=True)\n",
    "plt.plot(bins, np.ones_like(bins), linewidth=2, color='r')\n",
    "plt.show()"
   ]
  },
  {
   "cell_type": "code",
   "execution_count": 13,
   "id": "ae7a9122",
   "metadata": {},
   "outputs": [
    {
     "data": {
      "image/png": "[encoded data removed]",
      "text/plain": [
       "<Figure size 432x288 with 1 Axes>"
      ]
     },
     "metadata": {
      "needs_background": "light"
     },
     "output_type": "display_data"
    }
   ],
   "source": [
    "# Normal (Gaussian) distribution\n",
    "\n",
    "# Step 1: import necessary libraries\n",
    "import numpy as np\n",
    "import matplotlib.pyplot as plt\n",
    "  \n",
    "# Step 2:\n",
    "# Generating some random data\n",
    "# for an example\n",
    "data = np.random.normal(170, 10, 250)\n",
    "  \n",
    "# Plotting the histogram.\n",
    "plt.hist(data, bins=25, density=True, alpha=0.6, color='b')\n",
    "  \n",
    "plt.show()\n"
   ]
  },
  {
   "cell_type": "code",
   "execution_count": 16,
   "id": "28eb5eda",
   "metadata": {},
   "outputs": [
    {
     "data": {
      "text/plain": [
       "(array([1.65750000e-01, 1.90083333e-01, 1.85333333e-01, 1.43333333e-01,\n",
       "        7.99166667e-02, 5.92500000e-02, 7.16666667e-03, 1.75000000e-03,\n",
       "        5.83333333e-04, 1.66666667e-04]),\n",
       " array([ 0. ,  1.2,  2.4,  3.6,  4.8,  6. ,  7.2,  8.4,  9.6, 10.8, 12. ]),\n",
       " <BarContainer object of 10 artists>)"
      ]
     },
     "execution_count": 16,
     "metadata": {},
     "output_type": "execute_result"
    },
    {
     "data": {
      "image/png": "[encoded data removed]",
      "text/plain": [
       "<Figure size 432x288 with 1 Axes>"
      ]
     },
     "metadata": {
      "needs_background": "light"
     },
     "output_type": "display_data"
    }
   ],
   "source": [
    "# Poisson distribution: The Poisson distribution describes the probability of obtaining k successes during a given time interval.\n",
    "\n",
    "# Step 1: import necessary libraries\n",
    "from scipy.stats import poisson\n",
    "import matplotlib.pyplot as plt\n",
    "\n",
    "# Step 2: \n",
    "#generate Poisson distribution with sample size 10000\n",
    "x = poisson.rvs(mu=3, size=10000)\n",
    "\n",
    "#create plot of Poisson distribution\n",
    "plt.hist(x, density=True, edgecolor='black')"
   ]
  }
 ],
 "metadata": {
  "kernelspec": {
   "display_name": "Python 3 (ipykernel)",
   "language": "python",
   "name": "python3"
  },
  "language_info": {
   "codemirror_mode": {
    "name": "ipython",
    "version": 3
   },
   "file_extension": ".py",
   "mimetype": "text/x-python",
   "name": "python",
   "nbconvert_exporter": "python",
   "pygments_lexer": "ipython3",
   "version": "3.9.7"
  }
 },
 "nbformat": 4,
 "nbformat_minor": 5
}
