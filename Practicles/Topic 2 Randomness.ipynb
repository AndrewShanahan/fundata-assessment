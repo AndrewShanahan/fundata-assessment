{
 "cells": [
  {
   "cell_type": "markdown",
   "id": "1ea7b13e",
   "metadata": {},
   "source": [
    "# Topic 2: Randomness\n",
    "\n",
    "### This file contains the 3 exercises assosiated with this topic. Please find references to each exercise in the README.md file"
   ]
  },
  {
   "cell_type": "markdown",
   "id": "1f9325f1",
   "metadata": {},
   "source": [
    "Exercise 1:"
   ]
  },
  {
   "cell_type": "code",
   "execution_count": null,
   "id": "4efd728e",
   "metadata": {},
   "outputs": [],
   "source": []
  }
 ],
 "metadata": {
  "kernelspec": {
   "display_name": "Python 3 (ipykernel)",
   "language": "python",
   "name": "python3"
  },
  "language_info": {
   "codemirror_mode": {
    "name": "ipython",
    "version": 3
   },
   "file_extension": ".py",
   "mimetype": "text/x-python",
   "name": "python",
   "nbconvert_exporter": "python",
   "pygments_lexer": "ipython3",
   "version": "3.9.7"
  }
 },
 "nbformat": 4,
 "nbformat_minor": 5
}
