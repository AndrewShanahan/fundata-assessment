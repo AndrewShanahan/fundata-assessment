{
 "cells": [
  {
   "cell_type": "markdown",
   "id": "1ea7b13e",
   "metadata": {},
   "source": [
    "# Topic 2: Randomness\n",
    "\n",
    "### This file contains the 3 exercises assosiated with this topic. Please find references to each exercise in the README.md file"
   ]
  },
  {
   "cell_type": "code",
   "execution_count": 23,
   "id": "e894770c",
   "metadata": {},
   "outputs": [
    {
     "name": "stdout",
     "output_type": "stream",
     "text": [
      "Heads\n"
     ]
    }
   ],
   "source": [
    "# For generating numbers.\n",
    "#import numpy as np\n",
    "\n",
    "# for random.\n",
    "#import random \n",
    "\n",
    "from random import random\n",
    "def flip_coin():\n",
    "    # generate random number 0-1\n",
    "    r = random()\n",
    "    if r > 0.5:\n",
    "        return \"Heads\"\n",
    "    else:\n",
    "        return \"Tails\"\n",
    "print(flip_coin())"
   ]
  },
  {
   "cell_type": "markdown",
   "id": "1f9325f1",
   "metadata": {},
   "source": [
    "# Exercise 1:\n",
    "\n",
    "### It is somewhat interesting that (5 * 4 * 3 * 2 * 1) perfectly divides (10 * 9 * 8 * 7 * 6) - there's no remainder.\n",
    "\n",
    "### If we only wanted exactly four heads as opposed to five, the equivalent calculation would be (10 * 9 * 8 * 7) / (4 * 3 * 2 * 1).\n",
    "\n",
    "### Does that evenly divide too? What is the formula in general?\n",
    "\n",
    "### Does it always come out as a positive whole number?"
   ]
  },
  {
   "cell_type": "code",
   "execution_count": null,
   "id": "4efd728e",
   "metadata": {},
   "outputs": [],
   "source": []
  },
  {
   "cell_type": "markdown",
   "id": "9c5db44a",
   "metadata": {},
   "source": [
    "# Exercise 2:\n",
    "\n",
    "### Note that there are the same number of ways to get 4 tails as there to get 4 heads. Explain why this is."
   ]
  },
  {
   "cell_type": "code",
   "execution_count": null,
   "id": "faf70243",
   "metadata": {},
   "outputs": [],
   "source": []
  },
  {
   "cell_type": "markdown",
   "id": "95d86264",
   "metadata": {},
   "source": [
    "# Exercise 3:\n",
    "\n",
    "### Plot bar charts or histograms of any three different distributions listed at the following link:\n",
    "\n",
    "### https://numpy.org/doc/stable/reference/random/generator.html#distributions"
   ]
  },
  {
   "cell_type": "code",
   "execution_count": 2,
   "id": "ca605c38",
   "metadata": {},
   "outputs": [
    {
     "data": {
      "text/plain": [
       "Generator(PCG64) at 0x15D2C22E900"
      ]
     },
     "execution_count": 2,
     "metadata": {},
     "output_type": "execute_result"
    }
   ],
   "source": [
    "import numpy as np\n",
    "import matplotlib.pyplot as plt\n",
    "\n",
    "rng = np.random.default_rng()\n",
    "\n",
    "#uniform([low, high, size])   Draw samples from a uniform distribution.\n",
    "\n",
    "uniform = np.random.default_rng(100)\n",
    "uniform\n",
    "\n",
    "\n",
    "\n",
    "\n",
    "\n",
    "\n",
    "\n",
    "\n",
    "\n",
    "\n",
    "\n",
    "standard_exponential([size, dtype, method, out])\n",
    "\n",
    "Draw samples from the standard exponential distribution.\n"
   ]
  },
  {
   "cell_type": "code",
   "execution_count": 8,
   "id": "753c5cab",
   "metadata": {},
   "outputs": [
    {
     "name": "stderr",
     "output_type": "stream",
     "text": [
      "<>:8: SyntaxWarning: 'int' object is not subscriptable; perhaps you missed a comma?\n",
      "<>:8: SyntaxWarning: 'int' object is not subscriptable; perhaps you missed a comma?\n",
      "C:\\Users\\andre\\AppData\\Local\\Temp/ipykernel_19072/1527118403.py:8: SyntaxWarning: 'int' object is not subscriptable; perhaps you missed a comma?\n",
      "  betasamples = rng.beta(1,5[30])\n"
     ]
    },
    {
     "ename": "TypeError",
     "evalue": "'int' object is not subscriptable",
     "output_type": "error",
     "traceback": [
      "\u001b[1;31m---------------------------------------------------------------------------\u001b[0m",
      "\u001b[1;31mTypeError\u001b[0m                                 Traceback (most recent call last)",
      "\u001b[1;32m~\\AppData\\Local\\Temp/ipykernel_19072/1527118403.py\u001b[0m in \u001b[0;36m<module>\u001b[1;34m\u001b[0m\n\u001b[0;32m      6\u001b[0m \u001b[1;31m#uniform([low, high, size])   Draw samples from a uniform distribution.\u001b[0m\u001b[1;33m\u001b[0m\u001b[1;33m\u001b[0m\u001b[0m\n\u001b[0;32m      7\u001b[0m \u001b[1;33m\u001b[0m\u001b[0m\n\u001b[1;32m----> 8\u001b[1;33m \u001b[0mbetasamples\u001b[0m \u001b[1;33m=\u001b[0m \u001b[0mrng\u001b[0m\u001b[1;33m.\u001b[0m\u001b[0mbeta\u001b[0m\u001b[1;33m(\u001b[0m\u001b[1;36m1\u001b[0m\u001b[1;33m,\u001b[0m\u001b[1;36m5\u001b[0m\u001b[1;33m[\u001b[0m\u001b[1;36m30\u001b[0m\u001b[1;33m]\u001b[0m\u001b[1;33m)\u001b[0m\u001b[1;33m\u001b[0m\u001b[1;33m\u001b[0m\u001b[0m\n\u001b[0m\u001b[0;32m      9\u001b[0m \u001b[0mbetasample\u001b[0m\u001b[1;33m\u001b[0m\u001b[1;33m\u001b[0m\u001b[0m\n\u001b[0;32m     10\u001b[0m \u001b[1;33m\u001b[0m\u001b[0m\n",
      "\u001b[1;31mTypeError\u001b[0m: 'int' object is not subscriptable"
     ]
    }
   ],
   "source": [
    "import numpy as np\n",
    "import matplotlib.pyplot as plt\n",
    "\n",
    "rng = np.random.default_rng()\n",
    "\n",
    "#uniform([low, high, size])   Draw samples from a uniform distribution.\n",
    "\n",
    "betasamples = rng.beta(1,5[30])\n",
    "betasample\n",
    "\n",
    "\n",
    "\n",
    "#beta(a, b[, size])              Draw samples from a Beta distribution."
   ]
  }
 ],
 "metadata": {
  "kernelspec": {
   "display_name": "Python 3 (ipykernel)",
   "language": "python",
   "name": "python3"
  },
  "language_info": {
   "codemirror_mode": {
    "name": "ipython",
    "version": 3
   },
   "file_extension": ".py",
   "mimetype": "text/x-python",
   "name": "python",
   "nbconvert_exporter": "python",
   "pygments_lexer": "ipython3",
   "version": "3.9.7"
  }
 },
 "nbformat": 4,
 "nbformat_minor": 5
}
