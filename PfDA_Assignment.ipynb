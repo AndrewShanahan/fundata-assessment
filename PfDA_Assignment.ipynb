{
 "cells": [
  {
   "cell_type": "markdown",
   "id": "5f040759",
   "metadata": {},
   "source": [
    "# Programming for DataAnalysis Assignment"
   ]
  },
  {
   "cell_type": "markdown",
   "id": "f3c109d8",
   "metadata": {},
   "source": [
    "This notebook contains my submission for the project for the Programming for Data Analysis module, Winter 2022.\n",
    "\n",
    "I have selected to analyse Airbnb listings in Dublin, Ireland. This analysis will focus on rating scores.\n",
    "\n",
    "Problem Statement:\n",
    "\n",
    "For this project you must create a data set by simulating a real-world phenomenon of your choosing. You may pick any phenomenon you wish – you might pick one that is of interest to you in your personal or professional life. Then, rather than collect data\n",
    "related to the phenomenon, you should model and synthesise such data using Python. We suggest you use the numpy.random package for this purpose. Specifically, in this project you should:\n",
    "\n",
    "* Choose a real-world phenomenon that can be measured and for which you could collect at least one-hundred data points across at least four different variables.\n",
    "* Investigate the types of variables involved, their likely distributions, and their relationships with each other. * Synthesise/simulate a data set as closely matching their properties as possible.\n",
    "* Detail your research and implement the simulation in a Jupyter notebook – the data set itself can simply be displayed in an output cell within the notebook.\n",
    "\n",
    "Note that this project is about simulation – you must synthesise a data set. Some students may already have some real-world data sets in their own files. It is okay to base your synthesised data set on these should you wish (please reference it if you do), but the main task in this project is to create a synthesised data set. The next section\n",
    "gives an example project idea.\n",
    "\n",
    "### Assumptions\n",
    "\n",
    "We assume that all the data from data sources (Airbnb) is correct in terms of values, addresses and their corresponsing location.\n",
    "\n",
    "Prices of properties are not affected by seasonality."
   ]
  },
  {
   "cell_type": "markdown",
   "id": "af3b834e",
   "metadata": {},
   "source": [
    "![Image2](https://www.independent.ie/news/b7e3b/41599548.ece/AUTOCROP/w1240/AIRBNB-IPOFEES%20SPARE)"
   ]
  },
  {
   "cell_type": "markdown",
   "id": "d50e5da2",
   "metadata": {},
   "source": [
    "### Step 1: Import required libraries"
   ]
  },
  {
   "cell_type": "code",
   "execution_count": 1,
   "id": "69c41464",
   "metadata": {},
   "outputs": [],
   "source": [
    "# NumPy for numerical operations\n",
    "import numpy as np\n",
    "\n",
    "# Pandas for data analysis\n",
    "import pandas as pd\n",
    "\n",
    "# Statistics for descriptive statistics\n",
    "import statistics\n",
    "\n",
    "# Matplotlib.pyplot for plotting\n",
    "import matplotlib.pyplot as plt\n",
    "\n",
    "# sklearn\n",
    "import sklearn.neighbors as nei\n",
    "\n",
    "from sklearn.neighbors import KNeighborsClassifier\n",
    "\n",
    "# Dataset URL. Please note that this CSV file is compressed due to its size\n",
    "url=\"http://data.insideairbnb.com/ireland/leinster/dublin/2022-09-11/data/listings.csv.gz\"\n",
    "\n",
    "# Importing the CSV file:\n",
    "listingsDF = pd.read_csv(url, compression=\"gzip\")"
   ]
  },
  {
   "cell_type": "code",
   "execution_count": 11,
   "id": "8cd73a6f",
   "metadata": {},
   "outputs": [
    {
     "data": {
      "text/plain": [
       "(7566, 75)"
      ]
     },
     "execution_count": 11,
     "metadata": {},
     "output_type": "execute_result"
    }
   ],
   "source": [
    "# As this is a zipped file, firstly I want to have a quick look and see the size of the data I am dealing with\n",
    "listingsDF.shape"
   ]
  },
  {
   "cell_type": "markdown",
   "id": "a64ff6f1",
   "metadata": {},
   "source": [
    "### Step 2: Explore and understand the data and data remediation<br>"
   ]
  },
  {
   "cell_type": "code",
   "execution_count": 17,
   "id": "f5316fa6",
   "metadata": {},
   "outputs": [
    {
     "data": {
      "text/plain": [
       "Index(['id', 'listing_url', 'scrape_id', 'last_scraped', 'source', 'name',\n",
       "       'description', 'neighborhood_overview', 'picture_url', 'host_id',\n",
       "       'host_url', 'host_name', 'host_since', 'host_location', 'host_about',\n",
       "       'host_response_time', 'host_response_rate', 'host_acceptance_rate',\n",
       "       'host_is_superhost', 'host_thumbnail_url', 'host_picture_url',\n",
       "       'host_neighbourhood', 'host_listings_count',\n",
       "       'host_total_listings_count', 'host_verifications',\n",
       "       'host_has_profile_pic', 'host_identity_verified', 'neighbourhood',\n",
       "       'neighbourhood_cleansed', 'neighbourhood_group_cleansed', 'latitude',\n",
       "       'longitude', 'property_type', 'room_type', 'accommodates', 'bathrooms',\n",
       "       'bathrooms_text', 'bedrooms', 'beds', 'amenities', 'price',\n",
       "       'minimum_nights', 'maximum_nights', 'minimum_minimum_nights',\n",
       "       'maximum_minimum_nights', 'minimum_maximum_nights',\n",
       "       'maximum_maximum_nights', 'minimum_nights_avg_ntm',\n",
       "       'maximum_nights_avg_ntm', 'calendar_updated', 'has_availability',\n",
       "       'availability_30', 'availability_60', 'availability_90',\n",
       "       'availability_365', 'calendar_last_scraped', 'number_of_reviews',\n",
       "       'number_of_reviews_ltm', 'number_of_reviews_l30d', 'first_review',\n",
       "       'last_review', 'review_scores_rating', 'review_scores_accuracy',\n",
       "       'review_scores_cleanliness', 'review_scores_checkin',\n",
       "       'review_scores_communication', 'review_scores_location',\n",
       "       'review_scores_value', 'license', 'instant_bookable',\n",
       "       'calculated_host_listings_count',\n",
       "       'calculated_host_listings_count_entire_homes',\n",
       "       'calculated_host_listings_count_private_rooms',\n",
       "       'calculated_host_listings_count_shared_rooms', 'reviews_per_month'],\n",
       "      dtype='object')"
      ]
     },
     "execution_count": 17,
     "metadata": {},
     "output_type": "execute_result"
    }
   ],
   "source": [
    "listingsDF.columns"
   ]
  },
  {
   "cell_type": "code",
   "execution_count": 42,
   "id": "1d1f73da",
   "metadata": {},
   "outputs": [
    {
     "data": {
      "text/html": [
       "<div>\n",
       "<style scoped>\n",
       "    .dataframe tbody tr th:only-of-type {\n",
       "        vertical-align: middle;\n",
       "    }\n",
       "\n",
       "    .dataframe tbody tr th {\n",
       "        vertical-align: top;\n",
       "    }\n",
       "\n",
       "    .dataframe thead th {\n",
       "        text-align: right;\n",
       "    }\n",
       "</style>\n",
       "<table border=\"1\" class=\"dataframe\">\n",
       "  <thead>\n",
       "    <tr style=\"text-align: right;\">\n",
       "      <th></th>\n",
       "      <th>id</th>\n",
       "      <th>listing_url</th>\n",
       "      <th>scrape_id</th>\n",
       "      <th>last_scraped</th>\n",
       "      <th>source</th>\n",
       "      <th>name</th>\n",
       "      <th>description</th>\n",
       "      <th>neighborhood_overview</th>\n",
       "      <th>picture_url</th>\n",
       "      <th>host_id</th>\n",
       "      <th>...</th>\n",
       "      <th>review_scores_communication</th>\n",
       "      <th>review_scores_location</th>\n",
       "      <th>review_scores_value</th>\n",
       "      <th>license</th>\n",
       "      <th>instant_bookable</th>\n",
       "      <th>calculated_host_listings_count</th>\n",
       "      <th>calculated_host_listings_count_entire_homes</th>\n",
       "      <th>calculated_host_listings_count_private_rooms</th>\n",
       "      <th>calculated_host_listings_count_shared_rooms</th>\n",
       "      <th>reviews_per_month</th>\n",
       "    </tr>\n",
       "  </thead>\n",
       "  <tbody>\n",
       "    <tr>\n",
       "      <th>0</th>\n",
       "      <td>44077</td>\n",
       "      <td>https://www.airbnb.com/rooms/44077</td>\n",
       "      <td>20220911231053</td>\n",
       "      <td>2022-09-12</td>\n",
       "      <td>city scrape</td>\n",
       "      <td>cosy comfortable Irish cottage twin</td>\n",
       "      <td>Our house was built in 1937 when there was ple...</td>\n",
       "      <td>I like our neighbourhood as there is no shorta...</td>\n",
       "      <td>https://a0.muscache.com/pictures/525706/050a3a...</td>\n",
       "      <td>193005</td>\n",
       "      <td>...</td>\n",
       "      <td>4.93</td>\n",
       "      <td>4.66</td>\n",
       "      <td>4.82</td>\n",
       "      <td>NaN</td>\n",
       "      <td>f</td>\n",
       "      <td>2</td>\n",
       "      <td>0</td>\n",
       "      <td>2</td>\n",
       "      <td>0</td>\n",
       "      <td>1.85</td>\n",
       "    </tr>\n",
       "    <tr>\n",
       "      <th>1</th>\n",
       "      <td>85156</td>\n",
       "      <td>https://www.airbnb.com/rooms/85156</td>\n",
       "      <td>20220911231053</td>\n",
       "      <td>2022-09-12</td>\n",
       "      <td>city scrape</td>\n",
       "      <td>Cosy Comfortable Irish Cottage  1 Double Bed</td>\n",
       "      <td>Our Cottage is a charming light filled cottage...</td>\n",
       "      <td>I love Dundrum and its surrounding areas ,&lt;br ...</td>\n",
       "      <td>https://a0.muscache.com/pictures/1749253/9ed2a...</td>\n",
       "      <td>193005</td>\n",
       "      <td>...</td>\n",
       "      <td>4.88</td>\n",
       "      <td>4.64</td>\n",
       "      <td>4.78</td>\n",
       "      <td>NaN</td>\n",
       "      <td>f</td>\n",
       "      <td>2</td>\n",
       "      <td>0</td>\n",
       "      <td>2</td>\n",
       "      <td>0</td>\n",
       "      <td>1.53</td>\n",
       "    </tr>\n",
       "    <tr>\n",
       "      <th>2</th>\n",
       "      <td>159889</td>\n",
       "      <td>https://www.airbnb.com/rooms/159889</td>\n",
       "      <td>20220911231053</td>\n",
       "      <td>2022-09-12</td>\n",
       "      <td>city scrape</td>\n",
       "      <td>Friendly Single Room</td>\n",
       "      <td>Washing can be done at a cost of €5  per load....</td>\n",
       "      <td>Plenty of buses into the city and the area is ...</td>\n",
       "      <td>https://a0.muscache.com/pictures/3031697/a8259...</td>\n",
       "      <td>766611</td>\n",
       "      <td>...</td>\n",
       "      <td>4.90</td>\n",
       "      <td>4.63</td>\n",
       "      <td>4.74</td>\n",
       "      <td>NaN</td>\n",
       "      <td>f</td>\n",
       "      <td>3</td>\n",
       "      <td>0</td>\n",
       "      <td>3</td>\n",
       "      <td>0</td>\n",
       "      <td>2.78</td>\n",
       "    </tr>\n",
       "    <tr>\n",
       "      <th>3</th>\n",
       "      <td>162809</td>\n",
       "      <td>https://www.airbnb.com/rooms/162809</td>\n",
       "      <td>20220911231053</td>\n",
       "      <td>2022-09-11</td>\n",
       "      <td>city scrape</td>\n",
       "      <td>5.5 miles south of Dublin City :^)</td>\n",
       "      <td>A nice place to relax after the bustle of the ...</td>\n",
       "      <td>Close to the sea, hill walks and the city - vi...</td>\n",
       "      <td>https://a0.muscache.com/pictures/86694529/c07b...</td>\n",
       "      <td>777681</td>\n",
       "      <td>...</td>\n",
       "      <td>4.97</td>\n",
       "      <td>4.77</td>\n",
       "      <td>4.85</td>\n",
       "      <td>NaN</td>\n",
       "      <td>f</td>\n",
       "      <td>2</td>\n",
       "      <td>0</td>\n",
       "      <td>2</td>\n",
       "      <td>0</td>\n",
       "      <td>3.68</td>\n",
       "    </tr>\n",
       "    <tr>\n",
       "      <th>4</th>\n",
       "      <td>165828</td>\n",
       "      <td>https://www.airbnb.com/rooms/165828</td>\n",
       "      <td>20220911231053</td>\n",
       "      <td>2022-09-11</td>\n",
       "      <td>city scrape</td>\n",
       "      <td>Pádraig Pearse apt. Kilmainham</td>\n",
       "      <td>Don't just visit Dublin, experience Dublin in ...</td>\n",
       "      <td>Enjoy a walk along the grand canal, or just ob...</td>\n",
       "      <td>https://a0.muscache.com/pictures/34311419/b3f6...</td>\n",
       "      <td>790601</td>\n",
       "      <td>...</td>\n",
       "      <td>4.75</td>\n",
       "      <td>4.34</td>\n",
       "      <td>4.55</td>\n",
       "      <td>NaN</td>\n",
       "      <td>t</td>\n",
       "      <td>5</td>\n",
       "      <td>5</td>\n",
       "      <td>0</td>\n",
       "      <td>0</td>\n",
       "      <td>0.48</td>\n",
       "    </tr>\n",
       "  </tbody>\n",
       "</table>\n",
       "<p>5 rows × 75 columns</p>\n",
       "</div>"
      ],
      "text/plain": [
       "       id                          listing_url       scrape_id last_scraped  \\\n",
       "0   44077   https://www.airbnb.com/rooms/44077  20220911231053   2022-09-12   \n",
       "1   85156   https://www.airbnb.com/rooms/85156  20220911231053   2022-09-12   \n",
       "2  159889  https://www.airbnb.com/rooms/159889  20220911231053   2022-09-12   \n",
       "3  162809  https://www.airbnb.com/rooms/162809  20220911231053   2022-09-11   \n",
       "4  165828  https://www.airbnb.com/rooms/165828  20220911231053   2022-09-11   \n",
       "\n",
       "        source                                          name  \\\n",
       "0  city scrape           cosy comfortable Irish cottage twin   \n",
       "1  city scrape  Cosy Comfortable Irish Cottage  1 Double Bed   \n",
       "2  city scrape                          Friendly Single Room   \n",
       "3  city scrape            5.5 miles south of Dublin City :^)   \n",
       "4  city scrape                Pádraig Pearse apt. Kilmainham   \n",
       "\n",
       "                                         description  \\\n",
       "0  Our house was built in 1937 when there was ple...   \n",
       "1  Our Cottage is a charming light filled cottage...   \n",
       "2  Washing can be done at a cost of €5  per load....   \n",
       "3  A nice place to relax after the bustle of the ...   \n",
       "4  Don't just visit Dublin, experience Dublin in ...   \n",
       "\n",
       "                               neighborhood_overview  \\\n",
       "0  I like our neighbourhood as there is no shorta...   \n",
       "1  I love Dundrum and its surrounding areas ,<br ...   \n",
       "2  Plenty of buses into the city and the area is ...   \n",
       "3  Close to the sea, hill walks and the city - vi...   \n",
       "4  Enjoy a walk along the grand canal, or just ob...   \n",
       "\n",
       "                                         picture_url  host_id  ...  \\\n",
       "0  https://a0.muscache.com/pictures/525706/050a3a...   193005  ...   \n",
       "1  https://a0.muscache.com/pictures/1749253/9ed2a...   193005  ...   \n",
       "2  https://a0.muscache.com/pictures/3031697/a8259...   766611  ...   \n",
       "3  https://a0.muscache.com/pictures/86694529/c07b...   777681  ...   \n",
       "4  https://a0.muscache.com/pictures/34311419/b3f6...   790601  ...   \n",
       "\n",
       "  review_scores_communication review_scores_location review_scores_value  \\\n",
       "0                        4.93                   4.66                4.82   \n",
       "1                        4.88                   4.64                4.78   \n",
       "2                        4.90                   4.63                4.74   \n",
       "3                        4.97                   4.77                4.85   \n",
       "4                        4.75                   4.34                4.55   \n",
       "\n",
       "  license instant_bookable calculated_host_listings_count  \\\n",
       "0     NaN                f                              2   \n",
       "1     NaN                f                              2   \n",
       "2     NaN                f                              3   \n",
       "3     NaN                f                              2   \n",
       "4     NaN                t                              5   \n",
       "\n",
       "  calculated_host_listings_count_entire_homes  \\\n",
       "0                                           0   \n",
       "1                                           0   \n",
       "2                                           0   \n",
       "3                                           0   \n",
       "4                                           5   \n",
       "\n",
       "  calculated_host_listings_count_private_rooms  \\\n",
       "0                                            2   \n",
       "1                                            2   \n",
       "2                                            3   \n",
       "3                                            2   \n",
       "4                                            0   \n",
       "\n",
       "  calculated_host_listings_count_shared_rooms reviews_per_month  \n",
       "0                                           0              1.85  \n",
       "1                                           0              1.53  \n",
       "2                                           0              2.78  \n",
       "3                                           0              3.68  \n",
       "4                                           0              0.48  \n",
       "\n",
       "[5 rows x 75 columns]"
      ]
     },
     "execution_count": 42,
     "metadata": {},
     "output_type": "execute_result"
    }
   ],
   "source": [
    "# Having an initial look at the data\n",
    "\n",
    "listingsDF.head()"
   ]
  },
  {
   "cell_type": "code",
   "execution_count": 43,
   "id": "4048ae2e",
   "metadata": {},
   "outputs": [
    {
     "name": "stdout",
     "output_type": "stream",
     "text": [
      "<class 'pandas.core.frame.DataFrame'>\n",
      "RangeIndex: 7566 entries, 0 to 7565\n",
      "Data columns (total 75 columns):\n",
      " #   Column                                        Non-Null Count  Dtype  \n",
      "---  ------                                        --------------  -----  \n",
      " 0   id                                            7566 non-null   int64  \n",
      " 1   listing_url                                   7566 non-null   object \n",
      " 2   scrape_id                                     7566 non-null   int64  \n",
      " 3   last_scraped                                  7566 non-null   object \n",
      " 4   source                                        7566 non-null   object \n",
      " 5   name                                          7566 non-null   object \n",
      " 6   description                                   7411 non-null   object \n",
      " 7   neighborhood_overview                         4194 non-null   object \n",
      " 8   picture_url                                   7566 non-null   object \n",
      " 9   host_id                                       7566 non-null   int64  \n",
      " 10  host_url                                      7566 non-null   object \n",
      " 11  host_name                                     7566 non-null   object \n",
      " 12  host_since                                    7566 non-null   object \n",
      " 13  host_location                                 6232 non-null   object \n",
      " 14  host_about                                    3556 non-null   object \n",
      " 15  host_response_time                            3932 non-null   object \n",
      " 16  host_response_rate                            3932 non-null   object \n",
      " 17  host_acceptance_rate                          4191 non-null   object \n",
      " 18  host_is_superhost                             7566 non-null   object \n",
      " 19  host_thumbnail_url                            7566 non-null   object \n",
      " 20  host_picture_url                              7566 non-null   object \n",
      " 21  host_neighbourhood                            5234 non-null   object \n",
      " 22  host_listings_count                           7566 non-null   int64  \n",
      " 23  host_total_listings_count                     7566 non-null   int64  \n",
      " 24  host_verifications                            7566 non-null   object \n",
      " 25  host_has_profile_pic                          7566 non-null   object \n",
      " 26  host_identity_verified                        7566 non-null   object \n",
      " 27  neighbourhood                                 4194 non-null   object \n",
      " 28  neighbourhood_cleansed                        7566 non-null   object \n",
      " 29  neighbourhood_group_cleansed                  0 non-null      float64\n",
      " 30  latitude                                      7566 non-null   float64\n",
      " 31  longitude                                     7566 non-null   float64\n",
      " 32  property_type                                 7566 non-null   object \n",
      " 33  room_type                                     7566 non-null   object \n",
      " 34  accommodates                                  7566 non-null   int64  \n",
      " 35  bathrooms                                     0 non-null      float64\n",
      " 36  bathrooms_text                                7562 non-null   object \n",
      " 37  bedrooms                                      7361 non-null   float64\n",
      " 38  beds                                          7472 non-null   float64\n",
      " 39  amenities                                     7566 non-null   object \n",
      " 40  price                                         7566 non-null   object \n",
      " 41  minimum_nights                                7566 non-null   int64  \n",
      " 42  maximum_nights                                7566 non-null   int64  \n",
      " 43  minimum_minimum_nights                        7566 non-null   int64  \n",
      " 44  maximum_minimum_nights                        7566 non-null   int64  \n",
      " 45  minimum_maximum_nights                        7566 non-null   int64  \n",
      " 46  maximum_maximum_nights                        7566 non-null   int64  \n",
      " 47  minimum_nights_avg_ntm                        7566 non-null   float64\n",
      " 48  maximum_nights_avg_ntm                        7566 non-null   float64\n",
      " 49  calendar_updated                              0 non-null      float64\n",
      " 50  has_availability                              7566 non-null   object \n",
      " 51  availability_30                               7566 non-null   int64  \n",
      " 52  availability_60                               7566 non-null   int64  \n",
      " 53  availability_90                               7566 non-null   int64  \n",
      " 54  availability_365                              7566 non-null   int64  \n",
      " 55  calendar_last_scraped                         7566 non-null   object \n",
      " 56  number_of_reviews                             7566 non-null   int64  \n",
      " 57  number_of_reviews_ltm                         7566 non-null   int64  \n",
      " 58  number_of_reviews_l30d                        7566 non-null   int64  \n",
      " 59  first_review                                  6209 non-null   object \n",
      " 60  last_review                                   6209 non-null   object \n",
      " 61  review_scores_rating                          6209 non-null   float64\n",
      " 62  review_scores_accuracy                        6085 non-null   float64\n",
      " 63  review_scores_cleanliness                     6086 non-null   float64\n",
      " 64  review_scores_checkin                         6081 non-null   float64\n",
      " 65  review_scores_communication                   6085 non-null   float64\n",
      " 66  review_scores_location                        6081 non-null   float64\n",
      " 67  review_scores_value                           6079 non-null   float64\n",
      " 68  license                                       0 non-null      float64\n",
      " 69  instant_bookable                              7566 non-null   object \n",
      " 70  calculated_host_listings_count                7566 non-null   int64  \n",
      " 71  calculated_host_listings_count_entire_homes   7566 non-null   int64  \n",
      " 72  calculated_host_listings_count_private_rooms  7566 non-null   int64  \n",
      " 73  calculated_host_listings_count_shared_rooms   7566 non-null   int64  \n",
      " 74  reviews_per_month                             6209 non-null   float64\n",
      "dtypes: float64(18), int64(23), object(34)\n",
      "memory usage: 4.3+ MB\n"
     ]
    }
   ],
   "source": [
    "# Continuing to review the csv file\n",
    "\n",
    "listingsDF.info()"
   ]
  },
  {
   "cell_type": "code",
   "execution_count": null,
   "id": "65251cd1",
   "metadata": {},
   "outputs": [],
   "source": [
    "# Firstly, I want to get rid of any listings that haven't yet been reviewed\n",
    "listingsDF.dropna(subset=['first_review'], inplace=True)\n",
    "listingsDF.drop(columns=['first_review'], inplace= True)"
   ]
  },
  {
   "cell_type": "code",
   "execution_count": 10,
   "id": "4f72816b",
   "metadata": {},
   "outputs": [
    {
     "data": {
      "text/plain": [
       "license                         1.000000\n",
       "bathrooms                       1.000000\n",
       "calendar_updated                1.000000\n",
       "neighbourhood_group_cleansed    1.000000\n",
       "host_about                      0.503624\n",
       "host_response_time              0.458206\n",
       "host_response_rate              0.458206\n",
       "host_acceptance_rate            0.419391\n",
       "neighbourhood                   0.406507\n",
       "neighborhood_overview           0.406507\n",
       "host_neighbourhood              0.306974\n",
       "host_location                   0.162184\n",
       "bedrooms                        0.026896\n",
       "review_scores_value             0.020937\n",
       "review_scores_location          0.020615\n",
       "review_scores_checkin           0.020615\n",
       "review_scores_accuracy          0.019971\n",
       "review_scores_communication     0.019971\n",
       "review_scores_cleanliness       0.019810\n",
       "description                     0.017233\n",
       "beds                            0.011435\n",
       "bathrooms_text                  0.000483\n",
       "dtype: float64"
      ]
     },
     "execution_count": 10,
     "metadata": {},
     "output_type": "execute_result"
    }
   ],
   "source": [
    "# Now I will look for null values in the columns\n",
    "\n",
    "listingsDF.isnull().mean()[listings.isnull().mean()>0].sort_values(ascending=False)"
   ]
  },
  {
   "cell_type": "markdown",
   "id": "130f7414",
   "metadata": {},
   "source": [
    "I have decided that I will be focusing on 5 columns in this project however I also want to keep my original listingsDF as it is in the event I want to do any further analysis on this data contained in it.\n",
    "\n",
    "On that basis, I have decided to make a new version of the file and call it 'listingsDF2'.\n",
    "\n",
    "While I have chosen to make a new file, I would have like to demonstate manipulating my dataset by cleaning it up and dropping irrelevant fields. I would have done this with the code: \n",
    "\n",
    "dropcols = ['Column_1', 'Column_2', etc]\n",
    "listings.drop(columns=dropcols, inplace=True)"
   ]
  },
  {
   "cell_type": "code",
   "execution_count": 2,
   "id": "64a8ff61",
   "metadata": {},
   "outputs": [],
   "source": [
    "# From review of the data, I have decided I will only keep a small number of columns for my analysis and remove the rest.\n",
    "\n",
    "# Columns that I am keeping: 'host_id', 'host_listings_count', 'reviews_per_month', 'reviews_score_rating', 'price'\n",
    "\n",
    "listingsDF2 = listingsDF[['host_id','host_listings_count','reviews_per_month','review_scores_rating','price']].copy()"
   ]
  },
  {
   "cell_type": "code",
   "execution_count": 29,
   "id": "c47c01b5",
   "metadata": {},
   "outputs": [
    {
     "data": {
      "text/plain": [
       "(7566, 5)"
      ]
     },
     "execution_count": 29,
     "metadata": {},
     "output_type": "execute_result"
    }
   ],
   "source": [
    "listingsDF2.shape"
   ]
  },
  {
   "cell_type": "code",
   "execution_count": 30,
   "id": "735b2105",
   "metadata": {},
   "outputs": [
    {
     "name": "stdout",
     "output_type": "stream",
     "text": [
      "<class 'pandas.core.frame.DataFrame'>\n",
      "RangeIndex: 7566 entries, 0 to 7565\n",
      "Data columns (total 5 columns):\n",
      " #   Column                Non-Null Count  Dtype  \n",
      "---  ------                --------------  -----  \n",
      " 0   host_id               7566 non-null   int64  \n",
      " 1   host_listings_count   7566 non-null   int64  \n",
      " 2   reviews_per_month     6209 non-null   float64\n",
      " 3   review_scores_rating  6209 non-null   float64\n",
      " 4   price                 7566 non-null   object \n",
      "dtypes: float64(2), int64(2), object(1)\n",
      "memory usage: 295.7+ KB\n"
     ]
    }
   ],
   "source": [
    "# I want to make sure my new 'listingsDF2' is showing correct info\n",
    "\n",
    "listingsDF2.info()"
   ]
  },
  {
   "cell_type": "code",
   "execution_count": 32,
   "id": "31a1aef6",
   "metadata": {},
   "outputs": [
    {
     "data": {
      "text/plain": [
       "reviews_per_month       0.179355\n",
       "review_scores_rating    0.179355\n",
       "dtype: float64"
      ]
     },
     "execution_count": 32,
     "metadata": {},
     "output_type": "execute_result"
    }
   ],
   "source": [
    "# Continuing with reviewing the dataset, I want to check for nulls \n",
    "listingsDF2.isnull().mean()[listingsDF2.isnull().mean()>0].sort_values(ascending=False)"
   ]
  },
  {
   "cell_type": "code",
   "execution_count": 33,
   "id": "d7d3a393",
   "metadata": {},
   "outputs": [
    {
     "data": {
      "text/plain": [
       "count    7.566000e+03\n",
       "mean     1.165346e+08\n",
       "std      1.257774e+08\n",
       "min      4.398400e+04\n",
       "25%      2.500539e+07\n",
       "50%      6.773535e+07\n",
       "75%      1.624988e+08\n",
       "max      4.787894e+08\n",
       "Name: host_id, dtype: float64"
      ]
     },
     "execution_count": 33,
     "metadata": {},
     "output_type": "execute_result"
    }
   ],
   "source": [
    "# Using DataFrame.describe() method to get my statistical analysis for my listings dataframe\n",
    "\n",
    "host_id_stats = listingsDF2.loc[:,'host_id']\n",
    "host_id_stats.describe()\n",
    "\n",
    "host_id_stats.describe()"
   ]
  },
  {
   "cell_type": "code",
   "execution_count": 37,
   "id": "f43c4c5e",
   "metadata": {},
   "outputs": [
    {
     "data": {
      "text/plain": [
       "count    7566.000000\n",
       "mean       24.575601\n",
       "std       202.623363\n",
       "min         1.000000\n",
       "25%         1.000000\n",
       "50%         1.000000\n",
       "75%         3.000000\n",
       "max      2157.000000\n",
       "Name: host_listings_count, dtype: float64"
      ]
     },
     "execution_count": 37,
     "metadata": {},
     "output_type": "execute_result"
    }
   ],
   "source": [
    "# Using DataFrame.describe() method to get my statistical analysis for my listings dataframe\n",
    "\n",
    "host_listings_count_stats = listingsDF2.loc[:,'host_listings_count']\n",
    "host_listings_count_stats.describe()\n",
    "\n",
    "host_listings_count_stats.describe()"
   ]
  },
  {
   "cell_type": "code",
   "execution_count": 36,
   "id": "9237167a",
   "metadata": {},
   "outputs": [
    {
     "data": {
      "text/plain": [
       "count    6209.000000\n",
       "mean        1.319006\n",
       "std         1.988691\n",
       "min         0.010000\n",
       "25%         0.130000\n",
       "50%         0.610000\n",
       "75%         1.760000\n",
       "max        44.720000\n",
       "Name: reviews_per_month, dtype: float64"
      ]
     },
     "execution_count": 36,
     "metadata": {},
     "output_type": "execute_result"
    }
   ],
   "source": [
    "# Using DataFrame.describe() method to get my statistical analysis for my listings dataframe\n",
    "\n",
    "reviews_per_month_stats = listingsDF2.loc[:,'reviews_per_month']\n",
    "reviews_per_month_stats.describe()\n",
    "\n",
    "reviews_per_month_stats.describe()"
   ]
  },
  {
   "cell_type": "code",
   "execution_count": 38,
   "id": "d7566072",
   "metadata": {},
   "outputs": [
    {
     "data": {
      "text/plain": [
       "count    6209.000000\n",
       "mean        4.603239\n",
       "std         0.771441\n",
       "min         0.000000\n",
       "25%         4.560000\n",
       "50%         4.810000\n",
       "75%         5.000000\n",
       "max         5.000000\n",
       "Name: review_scores_rating, dtype: float64"
      ]
     },
     "execution_count": 38,
     "metadata": {},
     "output_type": "execute_result"
    }
   ],
   "source": [
    "# Using DataFrame.describe() method to get my statistical analysis for my listings dataframe\n",
    "\n",
    "review_scores_rating_stats = listingsDF2.loc[:,'review_scores_rating']\n",
    "review_scores_rating_stats.describe()\n",
    "\n",
    "review_scores_rating_stats.describe()"
   ]
  },
  {
   "cell_type": "code",
   "execution_count": 39,
   "id": "7c7af7ea",
   "metadata": {},
   "outputs": [
    {
     "data": {
      "text/plain": [
       "count        7566\n",
       "unique        547\n",
       "top       $100.00\n",
       "freq          235\n",
       "Name: price, dtype: object"
      ]
     },
     "execution_count": 39,
     "metadata": {},
     "output_type": "execute_result"
    }
   ],
   "source": [
    "# Using DataFrame.describe() method to get my statistical analysis for my listings dataframe\n",
    "\n",
    "price_stats = listingsDF2.loc[:,'price']\n",
    "price_stats.describe()\n",
    "\n",
    "price_stats.describe()"
   ]
  },
  {
   "cell_type": "code",
   "execution_count": 63,
   "id": "c3ac5ec1",
   "metadata": {},
   "outputs": [
    {
     "data": {
      "image/png": "[encoded data removed]",
      "text/plain": [
       "<Figure size 576x576 with 1 Axes>"
      ]
     },
     "metadata": {},
     "output_type": "display_data"
    }
   ],
   "source": [
    "# Reverting back to listingsDF to illustrate some charts\n",
    "\n",
    "# Pie chart of Room Type\n",
    "\n",
    "# As I have not yet dropped the columns that I am not interested in, I have taken this opportunity to showcase ability to add graphs and charts\n",
    "# I am aware this pie chart contains variables that I am not reviewing, it is being used to illustrate my ability to display charts and diagrams.\n",
    "\n",
    "listingsDF['room_type'].value_counts().plot(kind = 'pie', colors=['green', 'gold', 'black'], figsize = (8, 8))\n",
    "plt.title('Pie Chart for Room Type Distribution', fontsize = 20)\n",
    "plt.xlabel('Room Type')\n",
    "plt.ylabel('Number of entries')\n",
    "plt.show()"
   ]
  },
  {
   "cell_type": "code",
   "execution_count": 65,
   "id": "2c34b783",
   "metadata": {},
   "outputs": [
    {
     "data": {
      "text/plain": [
       "Text(0.5, 1.0, 'Distribution of reviews in the top neighbourhoods')"
      ]
     },
     "execution_count": 65,
     "metadata": {},
     "output_type": "execute_result"
    },
    {
     "data": {
      "image/png": "[encoded data removed]",
      "text/plain": [
       "<Figure size 576x432 with 1 Axes>"
      ]
     },
     "metadata": {
      "needs_background": "light"
     },
     "output_type": "display_data"
    }
   ],
   "source": [
    "# Again, as per note above, this graph is for illustrative purposes, I thought it would be a nice opportunity to show different areas.\n",
    "\n",
    "# Distribution of neighbourhoods, unfortunately the csv file did not have a detailed breakdown of locations in Dublin, Ireland,\n",
    "# however for illustrative purposes, plot was added.\n",
    "\n",
    "neighs = listingsDF.groupby('neighbourhood')\n",
    "reviews = neighs['number_of_reviews'].sum().sort_values().tail(5)\n",
    "\n",
    "reviews.plot(kind = 'bar', color=['#e59e6d', '#ba9653', '#963821', 'black', '#007a33'], figsize = (8, 6))\n",
    "plt.xlabel('Neighbourhood')\n",
    "plt.ylabel('Reviews')\n",
    "plt.title('Distribution of reviews in the top neighbourhoods')"
   ]
  },
  {
   "cell_type": "code",
   "execution_count": 66,
   "id": "617fe04b",
   "metadata": {},
   "outputs": [
    {
     "name": "stdout",
     "output_type": "stream",
     "text": [
      "The neighbourhood with the most listings is Dublin, County Dublin, Ireland with 1127 properties\n"
     ]
    }
   ],
   "source": [
    "# As per above, showing my ability to analyse a dataset.\n",
    "\n",
    "# Distribution of neighbourhoods, unfortunately the csv file did not have a detailed breakdown of locations in Dublin, Ireland,\n",
    "# however for illustrative purposes, code was included.\n",
    "\n",
    "res = listingsDF['neighbourhood'].value_counts()\n",
    "# We want the most common neighbourhood, thus the head of the list\n",
    "neig = res.keys().tolist()[0]\n",
    "# And also the properties it has\n",
    "n_props = res.tolist()[0]\n",
    "print(\"The neighbourhood with the most listings is {} with {} properties\".format(neig, n_props))"
   ]
  },
  {
   "cell_type": "markdown",
   "id": "62cec5cc",
   "metadata": {},
   "source": [
    "### Step 3: Synthesising the data and Random Samples"
   ]
  },
  {
   "cell_type": "code",
   "execution_count": 3,
   "id": "bc9d78b9",
   "metadata": {},
   "outputs": [
    {
     "name": "stdout",
     "output_type": "stream",
     "text": [
      "[0.76105281 0.08706881 0.67200487 ... 0.32221781 0.8719404  0.56074969]\n"
     ]
    }
   ],
   "source": [
    "# Draw random samples from a normal (Gaussian) distribution of 'review_scores_rating'\n",
    "\n",
    "# Parameters:\n",
    "#               loc : mean (4.603239)\n",
    "#               scale: standard deviation of the distribution (0.771441)\n",
    "#               size: integer or tuple, outs shape (none).\n",
    "\n",
    "rng = np.random.default_rng()\n",
    "x = rng.random(6209)\n",
    "print(x)"
   ]
  },
  {
   "cell_type": "code",
   "execution_count": 4,
   "id": "9c3e5df9",
   "metadata": {},
   "outputs": [
    {
     "data": {
      "image/png": "[encoded data removed]",
      "text/plain": [
       "<Figure size 432x288 with 1 Axes>"
      ]
     },
     "metadata": {
      "needs_background": "light"
     },
     "output_type": "display_data"
    }
   ],
   "source": [
    "# Normal (Gaussian) distribution of 'review_scores_rating' continued\n",
    "\n",
    "plt.hist(x)\n",
    "plt.show()"
   ]
  },
  {
   "cell_type": "code",
   "execution_count": 5,
   "id": "cd9561c2",
   "metadata": {},
   "outputs": [],
   "source": [
    "# Normal (Gaussian) distribution of 'review_scores_rating' continued\n",
    "\n",
    "y = np.random.normal(4.603239, 0.771441,6209)"
   ]
  },
  {
   "cell_type": "code",
   "execution_count": 10,
   "id": "e4cec165",
   "metadata": {},
   "outputs": [
    {
     "data": {
      "image/png": "[encoded data removed]",
      "text/plain": [
       "<Figure size 432x288 with 1 Axes>"
      ]
     },
     "metadata": {
      "needs_background": "light"
     },
     "output_type": "display_data"
    }
   ],
   "source": [
    "# Normal (Gaussian) distribution of 'review_scores_rating' continued\n",
    "\n",
    "# plotting histogram with title and labels\n",
    "\n",
    "plt.title(\"Normal Distribution of 'review_scores_rating'\")\n",
    "plt.xlabel(\"No of Standard Deviations from the mean\")\n",
    "plt.ylabel(\"Frequency\")\n",
    "\n",
    "plt.hist(y)\n",
    "plt.show()"
   ]
  },
  {
   "cell_type": "code",
   "execution_count": 11,
   "id": "4bd54137",
   "metadata": {},
   "outputs": [],
   "source": [
    "# numpy.random.seed: Adding this in for illustrative purposes\n",
    "\n",
    "# setting the seed at 42,\n",
    "\n",
    "rng = np.random.default_rng(seed=42)"
   ]
  },
  {
   "cell_type": "code",
   "execution_count": 12,
   "id": "dab4ea5d",
   "metadata": {},
   "outputs": [],
   "source": [
    "# numpy.random.seed continued\n",
    "\n",
    "# selecting a set of 15 random numbers\n",
    "\n",
    "z = rng.random((5,3))"
   ]
  },
  {
   "cell_type": "code",
   "execution_count": 13,
   "id": "6bf4daaa",
   "metadata": {},
   "outputs": [
    {
     "name": "stdout",
     "output_type": "stream",
     "text": [
      "[[0.77395605 0.43887844 0.85859792]\n",
      " [0.69736803 0.09417735 0.97562235]\n",
      " [0.7611397  0.78606431 0.12811363]\n",
      " [0.45038594 0.37079802 0.92676499]\n",
      " [0.64386512 0.82276161 0.4434142 ]]\n"
     ]
    }
   ],
   "source": [
    "# numpy.random.seed continued\n",
    "\n",
    "print(z)"
   ]
  },
  {
   "cell_type": "markdown",
   "id": "4c789b6d",
   "metadata": {},
   "source": [
    "Scikit-learn: A machine leanring library that provides almostall the machine leanring algorithms you might need. Schikit-learn is designed to be interpolated into NumPy and SciPy."
   ]
  },
  {
   "cell_type": "code",
   "execution_count": 3,
   "id": "43fa1a6e",
   "metadata": {},
   "outputs": [
    {
     "name": "stdout",
     "output_type": "stream",
     "text": [
      "Feature Matrix: \n",
      "   host_id_v2  host_listings_count_v2  reviews_per_month_v2  \\\n",
      "0   -1.904755                0.220892             -0.674106   \n",
      "1   -0.624866                1.658269              0.865887   \n",
      "2   -0.220107               -1.040238             -0.093203   \n",
      "3    0.951059               -0.371344              1.231066   \n",
      "4   -1.802986                0.414018             -1.886288   \n",
      "\n",
      "   review_score_rating_v2  price_v2  \n",
      "0               -0.243172  0.209275  \n",
      "1               -1.818129 -0.311116  \n",
      "2                0.591169  1.322630  \n",
      "3                1.438163  1.260309  \n",
      "4               -1.063846  1.374012  \n",
      "\n",
      "Target Class: \n"
     ]
    }
   ],
   "source": [
    "# Step 1 - Import libraries\n",
    "from sklearn.datasets import make_classification\n",
    "import pandas as pd\n",
    "\n",
    "# Create simulated data\n",
    "features, output = make_classification(n_samples = 50,\n",
    "                                       n_features = 5,\n",
    "                                       n_informative = 5,\n",
    "                                       n_redundant = 0,\n",
    "                                       n_classes = 3,\n",
    "                                       weights = [1, 1, 1])\n",
    "\n",
    "print(\"Feature Matrix: \");\n",
    "# renaming my selected variables with a 'V2' added to name in order to distinguish between my original data and new data\n",
    "print(pd.DataFrame(features, columns=[\"host_id_v2\", \"host_listings_count_v2\", \"reviews_per_month_v2\", \"review_score_rating_v2\", \"price_v2\"]).head())\n",
    "\n",
    "print()\n",
    "print(\"Target Class: \");"
   ]
  },
  {
   "cell_type": "markdown",
   "id": "3df55a81",
   "metadata": {},
   "source": [
    "### Scikit learn: Nearest neighbor"
   ]
  },
  {
   "cell_type": "markdown",
   "id": "7a69f3e3",
   "metadata": {},
   "source": [
    "Please note that in order to run through this code, I had to select different variables to review as the selected variables I have chosen were not all the appropriate data types. "
   ]
  },
  {
   "cell_type": "markdown",
   "id": "a228f1f4",
   "metadata": {},
   "source": [
    "#### Inputs and Outputs"
   ]
  },
  {
   "cell_type": "code",
   "execution_count": 17,
   "id": "ecf67394",
   "metadata": {},
   "outputs": [],
   "source": [
    "# removed 'price', 'review_scores_rating'\n",
    "\n",
    "inputs = listingsDF[['host_id', 'latitude', 'longitude']]\n",
    "outputs = listingsDF['id']"
   ]
  },
  {
   "cell_type": "markdown",
   "id": "5e53d4ed",
   "metadata": {},
   "source": [
    "#### Classifier"
   ]
  },
  {
   "cell_type": "code",
   "execution_count": 18,
   "id": "1c0de10e",
   "metadata": {},
   "outputs": [],
   "source": [
    "# from sklearn.neighbors import KNeighborsClassifier - this has been imported at top of page, also leaving here to demonstrate its use.\n",
    "\n",
    "knn = nei.KNeighborsClassifier(n_neighbors=4)\n",
    "#import sklearn.neighbors as nei"
   ]
  },
  {
   "cell_type": "markdown",
   "id": "9744124b",
   "metadata": {},
   "source": [
    "#### Fit"
   ]
  },
  {
   "cell_type": "code",
   "execution_count": 19,
   "id": "1f951629",
   "metadata": {},
   "outputs": [
    {
     "data": {
      "text/plain": [
       "KNeighborsClassifier(n_neighbors=4)"
      ]
     },
     "execution_count": 19,
     "metadata": {},
     "output_type": "execute_result"
    }
   ],
   "source": [
    "knn.fit(inputs, outputs)"
   ]
  },
  {
   "cell_type": "markdown",
   "id": "cbb3b3c5",
   "metadata": {},
   "source": [
    "#### Predict"
   ]
  },
  {
   "cell_type": "code",
   "execution_count": 20,
   "id": "25633f1a",
   "metadata": {
    "scrolled": true
   },
   "outputs": [
    {
     "data": {
      "text/plain": [
       "id                                                                           44077\n",
       "listing_url                                     https://www.airbnb.com/rooms/44077\n",
       "scrape_id                                                           20220911231053\n",
       "last_scraped                                                            2022-09-12\n",
       "source                                                                 city scrape\n",
       "                                                               ...                \n",
       "calculated_host_listings_count                                                   2\n",
       "calculated_host_listings_count_entire_homes                                      0\n",
       "calculated_host_listings_count_private_rooms                                     2\n",
       "calculated_host_listings_count_shared_rooms                                      0\n",
       "reviews_per_month                                                             1.85\n",
       "Name: 0, Length: 75, dtype: object"
      ]
     },
     "execution_count": 20,
     "metadata": {},
     "output_type": "execute_result"
    }
   ],
   "source": [
    "listingsDF.loc[0]"
   ]
  },
  {
   "cell_type": "code",
   "execution_count": 66,
   "id": "d43afcc5",
   "metadata": {},
   "outputs": [
    {
     "data": {
      "text/plain": [
       "array([2635493], dtype=int64)"
      ]
     },
     "execution_count": 66,
     "metadata": {},
     "output_type": "execute_result"
    }
   ],
   "source": [
    "# preditings the 'id'\n",
    "\n",
    "knn.predict([[0.352965,0.872357,1.343674]])"
   ]
  },
  {
   "cell_type": "markdown",
   "id": "6ab2d93e",
   "metadata": {},
   "source": [
    "### Conclusion"
   ]
  },
  {
   "cell_type": "code",
   "execution_count": null,
   "id": "45bf596d",
   "metadata": {},
   "outputs": [],
   "source": []
  },
  {
   "cell_type": "code",
   "execution_count": null,
   "id": "491b4953",
   "metadata": {},
   "outputs": [],
   "source": []
  },
  {
   "cell_type": "markdown",
   "id": "79b2e7c2",
   "metadata": {},
   "source": [
    "![Image](https://qtxasset.com/cdn-cgi/image/w=850,h=478,f=auto,fit=crop,g=0.5x0.5/https://qtxasset.com/quartz/qcloud1/media/image/hotelmanagement/1546632060/Airbnb%20Logo.png/Airbnb%20Logo.png?VersionId=ThlQLEp0zFaHTe_93YSLwNNOHeweU0sd)"
   ]
  }
 ],
 "metadata": {
  "kernelspec": {
   "display_name": "Python 3 (ipykernel)",
   "language": "python",
   "name": "python3"
  },
  "language_info": {
   "codemirror_mode": {
    "name": "ipython",
    "version": 3
   },
   "file_extension": ".py",
   "mimetype": "text/x-python",
   "name": "python",
   "nbconvert_exporter": "python",
   "pygments_lexer": "ipython3",
   "version": "3.9.7"
  }
 },
 "nbformat": 4,
 "nbformat_minor": 5
}
