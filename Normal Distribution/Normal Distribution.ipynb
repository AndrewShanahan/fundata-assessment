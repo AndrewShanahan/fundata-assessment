{
 "cells": [
  {
   "cell_type": "markdown",
   "id": "f2eb16d9",
   "metadata": {},
   "source": [
    "![Image6](https://encrypted-tbn0.gstatic.com/images?q=tbn:ANd9GcRgTxvR3YE0UnRmDI6-LDVQTYpe5qgtEFWB2w&usqp=CAU)"
   ]
  },
  {
   "cell_type": "markdown",
   "id": "d74a3eb7",
   "metadata": {},
   "source": [
    "# Introduction:\n",
    "\n",
    "This notebook has been created to define and explain the normal distribution. This is part of the module: Fundamentals of Data Analysis in the Higher Diploma in Science in Computing in Data Analytics.\n",
    "\n",
    "In order define and create visuals, I will be using the numpy.random.normal() function to create some date to review."
   ]
  },
  {
   "cell_type": "code",
   "execution_count": 9,
   "id": "135775ca",
   "metadata": {},
   "outputs": [],
   "source": [
    "# Import the required libraries:\n",
    "\n",
    "# The create sample data:\n",
    "from numpy.random import seed\n",
    "from numpy.random import normal\n",
    "\n",
    "# To analyse the data:\n",
    "import numpy as np\n",
    "\n",
    "# Visuals:\n",
    "import matplotlib.pyplot as plt"
   ]
  },
  {
   "cell_type": "code",
   "execution_count": 6,
   "id": "55f0e920",
   "metadata": {},
   "outputs": [
    {
     "data": {
      "text/plain": [
       "array([ 1.62434536, -0.61175641, -0.52817175, -1.07296862,  0.86540763])"
      ]
     },
     "execution_count": 6,
     "metadata": {},
     "output_type": "execute_result"
    }
   ],
   "source": [
    "# In this example I will define the seed as (1)\n",
    "seed(1)\n",
    "\n",
    "# I will generate a sample of 100 values that follow a normal distribution:\n",
    "data = normal(loc=0, scale=1, size=100)\n",
    "\n",
    "# view first 6 values:\n",
    "data[0:5]"
   ]
  },
  {
   "cell_type": "code",
   "execution_count": 7,
   "id": "438e42e2",
   "metadata": {},
   "outputs": [
    {
     "data": {
      "text/plain": [
       "0.060582852075698704"
      ]
     },
     "execution_count": 7,
     "metadata": {},
     "output_type": "execute_result"
    }
   ],
   "source": [
    "# Next I will find the mean of the sample:\n",
    "np.mean(data)"
   ]
  },
  {
   "cell_type": "code",
   "execution_count": 8,
   "id": "2ed9d33e",
   "metadata": {},
   "outputs": [
    {
     "data": {
      "text/plain": [
       "0.8896154673124121"
      ]
     },
     "execution_count": 8,
     "metadata": {},
     "output_type": "execute_result"
    }
   ],
   "source": [
    "# And the standard deviation of sample:\n",
    "np.std(data, ddof=1)"
   ]
  },
  {
   "cell_type": "code",
   "execution_count": 11,
   "id": "0f1e86b5",
   "metadata": {},
   "outputs": [
    {
     "data": {
      "image/png": "[encoded data removed]",
      "text/plain": [
       "<Figure size 432x288 with 1 Axes>"
      ]
     },
     "metadata": {
      "needs_background": "light"
     },
     "output_type": "display_data"
    }
   ],
   "source": [
    "count, bins, ignored = plt.hist(data, 50)\n",
    "plt.show()"
   ]
  },
  {
   "cell_type": "markdown",
   "id": "3ef1b2af",
   "metadata": {},
   "source": [
    "# Definition:"
   ]
  },
  {
   "cell_type": "markdown",
   "id": "689d530a",
   "metadata": {},
   "source": [
    "![Image7](https://www.investopedia.com/thmb/G8y4m5eS6LvyRoDwJnVLFSGpz5I=/750x0/filters:no_upscale():max_bytes(150000):strip_icc():format(webp)/Normal_Distribution-v2-f2fe66cf58ed448daf1184a14705c4a2.png)"
   ]
  },
  {
   "cell_type": "markdown",
   "id": "3be0583b",
   "metadata": {},
   "source": [
    "# Main concepts:"
   ]
  },
  {
   "cell_type": "markdown",
   "id": "305425e7",
   "metadata": {},
   "source": [
    "# Explained:"
   ]
  },
  {
   "cell_type": "markdown",
   "id": "b58077a2",
   "metadata": {},
   "source": [
    "![Image8](https://www.investopedia.com/thmb/lFaG1vgFO0XgA_Xzfw3yPLjG2Iw=/750x0/filters:no_upscale():max_bytes(150000):strip_icc():format(webp)/Clipboard01-fdb217713438416cadafc48a1e4e5ee4.jpg)"
   ]
  },
  {
   "cell_type": "markdown",
   "id": "c865f8c9",
   "metadata": {},
   "source": [
    "# Visuals:"
   ]
  },
  {
   "cell_type": "markdown",
   "id": "fed89af0",
   "metadata": {},
   "source": [
    "Normal Distribution Notebook (40%):\n",
    "\n",
    "to do\n",
    "\n",
    "• Create a notebook about the normal distribution.\n",
    "• Define and explain the main concepts.\n",
    "• Pitch the notebook at your classmates.\n",
    "• Use visuals like plots to explain concepts."
   ]
  },
  {
   "cell_type": "markdown",
   "id": "8237385e",
   "metadata": {},
   "source": [
    "Started doing reading and research into normal distribution and gethering relevant webpages that I will use to form asnwer, links added below for now and will be put into readme file as assignment progresses.\n",
    "\n",
    "https://en.wikipedia.org/wiki/Normal_distribution\n",
    "https://numpy.org/doc/stable/reference/random/generated/numpy.random.Generator.normal.html#numpy.random.Generator.normal\n",
    "\n",
    "\n",
    "\n"
   ]
  },
  {
   "cell_type": "markdown",
   "id": "6e6ba663",
   "metadata": {},
   "source": [
    "![Image5](https://media.istockphoto.com/id/1300314773/vector/gaussian-distribution-standard-normal-distribution-bell-curve.jpg?s=612x612&w=0&k=20&c=cr7k4AmYV7XV2FvQHxw00vElytNUAsll5Xg_fdcae-I=)"
   ]
  }
 ],
 "metadata": {
  "kernelspec": {
   "display_name": "Python 3 (ipykernel)",
   "language": "python",
   "name": "python3"
  },
  "language_info": {
   "codemirror_mode": {
    "name": "ipython",
    "version": 3
   },
   "file_extension": ".py",
   "mimetype": "text/x-python",
   "name": "python",
   "nbconvert_exporter": "python",
   "pygments_lexer": "ipython3",
   "version": "3.9.7"
  }
 },
 "nbformat": 4,
 "nbformat_minor": 5
}
