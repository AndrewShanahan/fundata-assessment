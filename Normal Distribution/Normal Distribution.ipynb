{
 "cells": [
  {
   "cell_type": "markdown",
   "id": "fed89af0",
   "metadata": {},
   "source": [
    "Normal Distribution Notebook (40%):\n",
    "\n",
    "to do\n",
    "\n",
    "• Create a notebook about the normal distribution.\n",
    "• Define and explain the main concepts.\n",
    "• Pitch the notebook at your classmates.\n",
    "• Use visuals like plots to explain concepts."
   ]
  },
  {
   "cell_type": "markdown",
   "id": "8237385e",
   "metadata": {},
   "source": [
    "Started doing reading and research into normal distribution and gethering relevant webpages that I will use to form asnwer, links added below for now and will be put into readme file as assignment progresses.\n",
    "\n",
    "https://en.wikipedia.org/wiki/Normal_distribution\n",
    "https://numpy.org/doc/stable/reference/random/generated/numpy.random.Generator.normal.html#numpy.random.Generator.normal\n",
    "\n",
    "\n",
    "\n"
   ]
  }
 ],
 "metadata": {
  "kernelspec": {
   "display_name": "Python 3 (ipykernel)",
   "language": "python",
   "name": "python3"
  },
  "language_info": {
   "codemirror_mode": {
    "name": "ipython",
    "version": 3
   },
   "file_extension": ".py",
   "mimetype": "text/x-python",
   "name": "python",
   "nbconvert_exporter": "python",
   "pygments_lexer": "ipython3",
   "version": "3.9.7"
  }
 },
 "nbformat": 4,
 "nbformat_minor": 5
}
