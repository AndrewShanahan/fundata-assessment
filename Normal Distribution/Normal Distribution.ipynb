{
 "cells": [
  {
   "cell_type": "markdown",
   "id": "fed89af0",
   "metadata": {},
   "source": [
    "Normal Distribution Notebook (40%):\n",
    "\n",
    "to do\n",
    "\n",
    "• Create a notebook about the normal distribution.\n",
    "• Define and explain the main concepts.\n",
    "• Pitch the notebook at your classmates.\n",
    "• Use visuals like plots to explain concepts."
   ]
  }
 ],
 "metadata": {
  "kernelspec": {
   "display_name": "Python 3 (ipykernel)",
   "language": "python",
   "name": "python3"
  },
  "language_info": {
   "codemirror_mode": {
    "name": "ipython",
    "version": 3
   },
   "file_extension": ".py",
   "mimetype": "text/x-python",
   "name": "python",
   "nbconvert_exporter": "python",
   "pygments_lexer": "ipython3",
   "version": "3.9.7"
  }
 },
 "nbformat": 4,
 "nbformat_minor": 5
}
