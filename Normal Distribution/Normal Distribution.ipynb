{
 "cells": [
  {
   "cell_type": "markdown",
   "id": "6e6ba663",
   "metadata": {},
   "source": [
    "![Image5](https://media.istockphoto.com/id/1300314773/vector/gaussian-distribution-standard-normal-distribution-bell-curve.jpg?s=612x612&w=0&k=20&c=cr7k4AmYV7XV2FvQHxw00vElytNUAsll5Xg_fdcae-I=)"
   ]
  },
  {
   "cell_type": "markdown",
   "id": "fed89af0",
   "metadata": {},
   "source": [
    "Normal Distribution Notebook (40%):\n",
    "\n",
    "to do\n",
    "\n",
    "• Create a notebook about the normal distribution.\n",
    "• Define and explain the main concepts.\n",
    "• Pitch the notebook at your classmates.\n",
    "• Use visuals like plots to explain concepts."
   ]
  },
  {
   "cell_type": "markdown",
   "id": "f2eb16d9",
   "metadata": {},
   "source": [
    "![Image6](https://encrypted-tbn0.gstatic.com/images?q=tbn:ANd9GcRgTxvR3YE0UnRmDI6-LDVQTYpe5qgtEFWB2w&usqp=CAU)"
   ]
  },
  {
   "cell_type": "markdown",
   "id": "8237385e",
   "metadata": {},
   "source": [
    "Started doing reading and research into normal distribution and gethering relevant webpages that I will use to form asnwer, links added below for now and will be put into readme file as assignment progresses.\n",
    "\n",
    "https://en.wikipedia.org/wiki/Normal_distribution\n",
    "https://numpy.org/doc/stable/reference/random/generated/numpy.random.Generator.normal.html#numpy.random.Generator.normal\n",
    "\n",
    "\n",
    "\n"
   ]
  }
 ],
 "metadata": {
  "kernelspec": {
   "display_name": "Python 3 (ipykernel)",
   "language": "python",
   "name": "python3"
  },
  "language_info": {
   "codemirror_mode": {
    "name": "ipython",
    "version": 3
   },
   "file_extension": ".py",
   "mimetype": "text/x-python",
   "name": "python",
   "nbconvert_exporter": "python",
   "pygments_lexer": "ipython3",
   "version": "3.9.7"
  }
 },
 "nbformat": 4,
 "nbformat_minor": 5
}
