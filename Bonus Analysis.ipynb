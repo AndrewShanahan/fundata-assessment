{
 "cells": [
  {
   "cell_type": "markdown",
   "id": "a2ecaf54",
   "metadata": {},
   "source": [
    "![TestURL](https://i.kym-cdn.com/photos/images/original/000/041/494/1241026091_youve_been_rickrolled.gif)"
   ]
  }
 ],
 "metadata": {
  "kernelspec": {
   "display_name": "Python 3 (ipykernel)",
   "language": "python",
   "name": "python3"
  },
  "language_info": {
   "codemirror_mode": {
    "name": "ipython",
    "version": 3
   },
   "file_extension": ".py",
   "mimetype": "text/x-python",
   "name": "python",
   "nbconvert_exporter": "python",
   "pygments_lexer": "ipython3",
   "version": "3.9.7"
  }
 },
 "nbformat": 4,
 "nbformat_minor": 5
}
